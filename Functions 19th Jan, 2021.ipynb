{
  "nbformat": 4,
  "nbformat_minor": 0,
  "metadata": {
    "kernelspec": {
      "display_name": "Python 3",
      "language": "python",
      "name": "python3"
    },
    "language_info": {
      "codemirror_mode": {
        "name": "ipython",
        "version": 3
      },
      "file_extension": ".py",
      "mimetype": "text/x-python",
      "name": "python",
      "nbconvert_exporter": "python",
      "pygments_lexer": "ipython3",
      "version": "3.8.5"
    },
    "colab": {
      "name": "Functions 19th Jan, 2021.ipynb",
      "provenance": []
    }
  },
  "cells": [
    {
      "cell_type": "code",
      "metadata": {
        "id": "P_ofC6tuRmpy"
      },
      "source": [
        "def adding(a,b):\n",
        "    '''\n",
        "    This function takes 2 parameters in integer form\n",
        "    and it will return the sum of input numbers\n",
        "    '''\n",
        "    return a + b\n"
      ],
      "execution_count": null,
      "outputs": []
    },
    {
      "cell_type": "code",
      "metadata": {
        "id": "vucppfv2Rmp3",
        "outputId": "8a98ced9-4105-4f17-f8c2-ccca26d1400c"
      },
      "source": [
        "num1 = int(input())\n",
        "num2 = int(input())\n",
        "adding(num1,num2)"
      ],
      "execution_count": null,
      "outputs": [
        {
          "output_type": "stream",
          "text": [
            "5\n",
            "6\n"
          ],
          "name": "stdout"
        },
        {
          "output_type": "execute_result",
          "data": {
            "text/plain": [
              "11"
            ]
          },
          "metadata": {
            "tags": []
          },
          "execution_count": 3
        }
      ]
    },
    {
      "cell_type": "code",
      "metadata": {
        "id": "W76jX6QWRmp4"
      },
      "source": [
        "def full_name(first_name, middle_name, last_name):\n",
        "    return first_name + middle_name + last_name"
      ],
      "execution_count": null,
      "outputs": []
    },
    {
      "cell_type": "code",
      "metadata": {
        "id": "ghSRA7v8Rmp5",
        "outputId": "a6dec11a-8883-4de4-f1eb-4ef48dd618af"
      },
      "source": [
        "full_name(last_name=\"Mukati\",middle_name=\" \", first_name = \"Rizwan\")"
      ],
      "execution_count": null,
      "outputs": [
        {
          "output_type": "execute_result",
          "data": {
            "text/plain": [
              "'Rizwan Mukati'"
            ]
          },
          "metadata": {
            "tags": []
          },
          "execution_count": 6
        }
      ]
    },
    {
      "cell_type": "code",
      "metadata": {
        "id": "2wLxtl9CRmp5"
      },
      "source": [
        "def abc(x,y,z):\n",
        "    print(x,y,z) "
      ],
      "execution_count": null,
      "outputs": []
    },
    {
      "cell_type": "code",
      "metadata": {
        "id": "MnfS81I5Rmp5",
        "outputId": "40e65d60-7b35-4a2a-9dc9-791d6e195e59"
      },
      "source": [
        "abc(24,y=21,z=23) # positional arguments always comes first than keyword arguments."
      ],
      "execution_count": null,
      "outputs": [
        {
          "output_type": "stream",
          "text": [
            "24 21 23\n"
          ],
          "name": "stdout"
        }
      ]
    },
    {
      "cell_type": "code",
      "metadata": {
        "id": "Wk4mtYTwRmp6"
      },
      "source": [
        "def abc(x,y,z=1): # default parameter\n",
        "    print(x,y,z) "
      ],
      "execution_count": null,
      "outputs": []
    },
    {
      "cell_type": "code",
      "metadata": {
        "id": "1gOaujekRmp6",
        "outputId": "b2191d05-b1b4-4606-a4ff-851100e9a9d3"
      },
      "source": [
        "abc(24,y=21)"
      ],
      "execution_count": null,
      "outputs": [
        {
          "output_type": "stream",
          "text": [
            "24 21 1\n"
          ],
          "name": "stdout"
        }
      ]
    },
    {
      "cell_type": "code",
      "metadata": {
        "id": "nhHu7AENRmp6"
      },
      "source": [
        "def make_shirt(size,message):\n",
        "    print(str(size)+ \" \"+ str(message))\n"
      ],
      "execution_count": null,
      "outputs": []
    },
    {
      "cell_type": "code",
      "metadata": {
        "id": "GeSg3WPmRmp6",
        "outputId": "1c2f9373-2488-41c4-ac0b-1f199c66a762"
      },
      "source": [
        "make_shirt(\"small\",\"nike\")"
      ],
      "execution_count": null,
      "outputs": [
        {
          "output_type": "stream",
          "text": [
            "small nike\n"
          ],
          "name": "stdout"
        }
      ]
    },
    {
      "cell_type": "code",
      "metadata": {
        "id": "D9CGXPE-Rmp7",
        "outputId": "417f2c28-8388-4204-b6ce-64e4cc5c2645"
      },
      "source": [
        "make_shirt(size=\"medium\",message=\"Reebok\")"
      ],
      "execution_count": null,
      "outputs": [
        {
          "output_type": "stream",
          "text": [
            "medium Reebok\n"
          ],
          "name": "stdout"
        }
      ]
    },
    {
      "cell_type": "code",
      "metadata": {
        "id": "ll1K71tgRmp7"
      },
      "source": [
        "def make_shirt(size,message):\n",
        "    print(str(size)+ \" \"+ str(message))"
      ],
      "execution_count": null,
      "outputs": []
    },
    {
      "cell_type": "code",
      "metadata": {
        "id": "1y3Mb9_nRmp7"
      },
      "source": [
        "def build_person(first_name,last_name):\n",
        "    person={'First':first_name,'Last':last_name}\n",
        "    return person\n"
      ],
      "execution_count": null,
      "outputs": []
    },
    {
      "cell_type": "code",
      "metadata": {
        "id": "X8CMBw6ERmp7",
        "outputId": "cc656046-2a59-4f1d-ac70-8f24efc70d24"
      },
      "source": [
        "build_person('jimi','hendrix')"
      ],
      "execution_count": null,
      "outputs": [
        {
          "output_type": "execute_result",
          "data": {
            "text/plain": [
              "{'First': 'jimi', 'Last': 'hendrix'}"
            ]
          },
          "metadata": {
            "tags": []
          },
          "execution_count": 33
        }
      ]
    },
    {
      "cell_type": "code",
      "metadata": {
        "id": "GkwrKBVfRmp8"
      },
      "source": [
        "def build_person(first_name,last_name):\n",
        "    person={'First':first_name,'Last':last_name}\n",
        "    \n",
        "    return person"
      ],
      "execution_count": null,
      "outputs": []
    },
    {
      "cell_type": "code",
      "metadata": {
        "id": "oSvqFFtjRmp8"
      },
      "source": [
        ""
      ],
      "execution_count": null,
      "outputs": []
    },
    {
      "cell_type": "code",
      "metadata": {
        "id": "R54t1FDDRmp8",
        "outputId": "280c9f77-8898-42e2-a671-63e1eb8900d3"
      },
      "source": [
        "def max_value_finder():\n",
        "    nums = []\n",
        "    for a in range(5):\n",
        "        num = int(input(\"Enter a number\"))\n",
        "        nums.append(num)\n",
        "    return max(nums)\n",
        "max_value_finder()"
      ],
      "execution_count": null,
      "outputs": [
        {
          "output_type": "stream",
          "text": [
            "Enter a number1\n",
            "Enter a number2\n",
            "Enter a number7\n",
            "Enter a number4\n",
            "Enter a number6\n"
          ],
          "name": "stdout"
        },
        {
          "output_type": "execute_result",
          "data": {
            "text/plain": [
              "7"
            ]
          },
          "metadata": {
            "tags": []
          },
          "execution_count": 42
        }
      ]
    },
    {
      "cell_type": "code",
      "metadata": {
        "id": "ZbF-AWjhRmp8"
      },
      "source": [
        "def max_finder():\n",
        "    return max([int(input()) for a in range(5)])"
      ],
      "execution_count": null,
      "outputs": []
    },
    {
      "cell_type": "code",
      "metadata": {
        "id": "p6FEzLuQRmp9",
        "outputId": "b569ec3e-6999-4155-86cd-1b958fd71b51"
      },
      "source": [
        "max_finder()"
      ],
      "execution_count": null,
      "outputs": [
        {
          "output_type": "stream",
          "text": [
            "5\n",
            "6\n",
            "7\n",
            "4\n",
            "9\n"
          ],
          "name": "stdout"
        },
        {
          "output_type": "execute_result",
          "data": {
            "text/plain": [
              "9"
            ]
          },
          "metadata": {
            "tags": []
          },
          "execution_count": 44
        }
      ]
    },
    {
      "cell_type": "code",
      "metadata": {
        "id": "HXBs76deRmp9"
      },
      "source": [
        "def max_finder():\n",
        "    nums = input(\"Enter comma separated values\").split(',')\n",
        "    return max([int(i) for i in nums])"
      ],
      "execution_count": 1,
      "outputs": []
    },
    {
      "cell_type": "code",
      "metadata": {
        "id": "pXjuWFV0Rmp9",
        "outputId": "48c8543f-88ad-4268-ecb3-4b0a8c19d6e3",
        "colab": {
          "base_uri": "https://localhost:8080/"
        }
      },
      "source": [
        "max_finder()"
      ],
      "execution_count": 2,
      "outputs": [
        {
          "output_type": "stream",
          "text": [
            "Enter comma separated values1,5,9,8,7,56,64,85\n"
          ],
          "name": "stdout"
        },
        {
          "output_type": "execute_result",
          "data": {
            "text/plain": [
              "85"
            ]
          },
          "metadata": {
            "tags": []
          },
          "execution_count": 2
        }
      ]
    },
    {
      "cell_type": "code",
      "metadata": {
        "id": "aWpHqW3URmp9"
      },
      "source": [
        ""
      ],
      "execution_count": null,
      "outputs": []
    }
  ]
}