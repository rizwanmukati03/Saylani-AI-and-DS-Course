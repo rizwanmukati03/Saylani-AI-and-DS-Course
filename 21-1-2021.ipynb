{
 "cells": [
  {
   "cell_type": "code",
   "execution_count": 46,
   "metadata": {},
   "outputs": [],
   "source": [
    "#exercise 8-7. Album\n",
    "def make_album( artist_name,album_title):\n",
    "    dic={'Artist Name':artist_name, 'Album': album_title}\n",
    "    return dic "
   ]
  },
  {
   "cell_type": "code",
   "execution_count": 49,
   "metadata": {},
   "outputs": [],
   "source": [
    "album1 = make_album(artist_name = 'Chester benington',album_title = 'linkin park')\n",
    "album2 = make_album(artist_name = 'Atif',album_title = 'Jal')\n",
    "album3 = make_album(artist_name = 'Mr. A',album_title = 'Album3')"
   ]
  },
  {
   "cell_type": "code",
   "execution_count": 50,
   "metadata": {},
   "outputs": [
    {
     "name": "stdout",
     "output_type": "stream",
     "text": [
      "{'Artist Name': 'Chester benington', 'Album': 'linkin park'} {'Artist Name': 'Atif', 'Album': 'Jal'} {'Artist Name': 'Mr. A', 'Album': 'Album3'}\n"
     ]
    }
   ],
   "source": [
    "print(album1,album2,album3)"
   ]
  },
  {
   "cell_type": "code",
   "execution_count": 70,
   "metadata": {},
   "outputs": [],
   "source": [
    "def make_album( artist_name,album_title,tracks= ''):\n",
    "    dic={'Artist Name':artist_name, 'Album': album_title}\n",
    "    if tracks:\n",
    "        dic['tracks'] = tracks\n",
    "    return dic "
   ]
  },
  {
   "cell_type": "code",
   "execution_count": 71,
   "metadata": {},
   "outputs": [],
   "source": [
    "album1 = make_album(artist_name = 'Chester benington',album_title = 'linkin park')\n",
    "album2 = make_album(artist_name = 'Atif',album_title = 'Jal',tracks=3)\n",
    "album3 = make_album(artist_name = 'Mr. A',album_title = 'Album3',tracks=7)"
   ]
  },
  {
   "cell_type": "code",
   "execution_count": 72,
   "metadata": {},
   "outputs": [
    {
     "name": "stdout",
     "output_type": "stream",
     "text": [
      "{'Artist Name': 'Chester benington', 'Album': 'linkin park'}\n",
      "{'Artist Name': 'Atif', 'Album': 'Jal', 'tracks': 3}\n",
      "{'Artist Name': 'Mr. A', 'Album': 'Album3', 'tracks': 7}\n"
     ]
    }
   ],
   "source": [
    "print(album1)\n",
    "print(album2)\n",
    "print(album3)"
   ]
  },
  {
   "cell_type": "code",
   "execution_count": 76,
   "metadata": {},
   "outputs": [],
   "source": [
    "def make_album( artist_name,album_title,tracks= None):\n",
    "    dic={'Artist Name':artist_name, 'Album': album_title}\n",
    "    if tracks:\n",
    "        dic['tracks'] = tracks\n",
    "    return dic "
   ]
  },
  {
   "cell_type": "code",
   "execution_count": 77,
   "metadata": {},
   "outputs": [],
   "source": [
    "album1 = make_album(artist_name = 'Chester benington',album_title = 'linkin park')\n",
    "album2 = make_album(artist_name = 'Atif',album_title = 'Jal',tracks=3)\n",
    "album3 = make_album(artist_name = 'Mr. A',album_title = 'Album3',tracks=7)"
   ]
  },
  {
   "cell_type": "code",
   "execution_count": 78,
   "metadata": {},
   "outputs": [
    {
     "name": "stdout",
     "output_type": "stream",
     "text": [
      "{'Artist Name': 'Chester benington', 'Album': 'linkin park'}\n",
      "{'Artist Name': 'Atif', 'Album': 'Jal', 'tracks': 3}\n",
      "{'Artist Name': 'Mr. A', 'Album': 'Album3', 'tracks': 7}\n"
     ]
    }
   ],
   "source": [
    "print(album1)\n",
    "print(album2)\n",
    "print(album3)"
   ]
  },
  {
   "cell_type": "code",
   "execution_count": null,
   "metadata": {},
   "outputs": [],
   "source": [
    "  "
   ]
  },
  {
   "cell_type": "code",
   "execution_count": null,
   "metadata": {},
   "outputs": [],
   "source": []
  },
  {
   "cell_type": "code",
   "execution_count": null,
   "metadata": {},
   "outputs": [],
   "source": []
  },
  {
   "cell_type": "code",
   "execution_count": 85,
   "metadata": {},
   "outputs": [
    {
     "name": "stdout",
     "output_type": "stream",
     "text": [
      "\n",
      " What is the artist nameasd\n",
      "\n",
      " What is the album namedfg\n",
      "\n",
      " How many tracks are?5\n",
      "\n",
      " What is the artist namequit\n"
     ]
    },
    {
     "ename": "KeyboardInterrupt",
     "evalue": "Interrupted by user",
     "output_type": "error",
     "traceback": [
      "\u001b[1;31m---------------------------------------------------------------------------\u001b[0m",
      "\u001b[1;31mKeyboardInterrupt\u001b[0m                         Traceback (most recent call last)",
      "\u001b[1;32m<ipython-input-85-7f2dd8acf91a>\u001b[0m in \u001b[0;36m<module>\u001b[1;34m\u001b[0m\n\u001b[0;32m      4\u001b[0m     \u001b[1;32mif\u001b[0m \u001b[0mtitle\u001b[0m \u001b[1;33m==\u001b[0m \u001b[1;34m'quit'\u001b[0m\u001b[1;33m:\u001b[0m\u001b[1;33m\u001b[0m\u001b[1;33m\u001b[0m\u001b[0m\n\u001b[0;32m      5\u001b[0m         \u001b[1;32mbreak\u001b[0m\u001b[1;33m\u001b[0m\u001b[1;33m\u001b[0m\u001b[0m\n\u001b[1;32m----> 6\u001b[1;33m     \u001b[0malbum\u001b[0m\u001b[1;33m=\u001b[0m \u001b[0minput\u001b[0m\u001b[1;33m(\u001b[0m\u001b[1;34m'\\n What is the album name'\u001b[0m\u001b[1;33m)\u001b[0m\u001b[1;33m.\u001b[0m\u001b[0mlower\u001b[0m\u001b[1;33m(\u001b[0m\u001b[1;33m)\u001b[0m\u001b[1;33m\u001b[0m\u001b[1;33m\u001b[0m\u001b[0m\n\u001b[0m\u001b[0;32m      7\u001b[0m     \u001b[1;32mif\u001b[0m \u001b[0martist\u001b[0m \u001b[1;33m==\u001b[0m \u001b[1;34m'quit'\u001b[0m\u001b[1;33m:\u001b[0m\u001b[1;33m\u001b[0m\u001b[1;33m\u001b[0m\u001b[0m\n\u001b[0;32m      8\u001b[0m         \u001b[1;32mbreak\u001b[0m\u001b[1;33m\u001b[0m\u001b[1;33m\u001b[0m\u001b[0m\n",
      "\u001b[1;32mC:\\ProgramData\\Anaconda3\\lib\\site-packages\\ipykernel\\kernelbase.py\u001b[0m in \u001b[0;36mraw_input\u001b[1;34m(self, prompt)\u001b[0m\n\u001b[0;32m    858\u001b[0m                 \u001b[1;34m\"raw_input was called, but this frontend does not support input requests.\"\u001b[0m\u001b[1;33m\u001b[0m\u001b[1;33m\u001b[0m\u001b[0m\n\u001b[0;32m    859\u001b[0m             )\n\u001b[1;32m--> 860\u001b[1;33m         return self._input_request(str(prompt),\n\u001b[0m\u001b[0;32m    861\u001b[0m             \u001b[0mself\u001b[0m\u001b[1;33m.\u001b[0m\u001b[0m_parent_ident\u001b[0m\u001b[1;33m,\u001b[0m\u001b[1;33m\u001b[0m\u001b[1;33m\u001b[0m\u001b[0m\n\u001b[0;32m    862\u001b[0m             \u001b[0mself\u001b[0m\u001b[1;33m.\u001b[0m\u001b[0m_parent_header\u001b[0m\u001b[1;33m,\u001b[0m\u001b[1;33m\u001b[0m\u001b[1;33m\u001b[0m\u001b[0m\n",
      "\u001b[1;32mC:\\ProgramData\\Anaconda3\\lib\\site-packages\\ipykernel\\kernelbase.py\u001b[0m in \u001b[0;36m_input_request\u001b[1;34m(self, prompt, ident, parent, password)\u001b[0m\n\u001b[0;32m    902\u001b[0m             \u001b[1;32mexcept\u001b[0m \u001b[0mKeyboardInterrupt\u001b[0m\u001b[1;33m:\u001b[0m\u001b[1;33m\u001b[0m\u001b[1;33m\u001b[0m\u001b[0m\n\u001b[0;32m    903\u001b[0m                 \u001b[1;31m# re-raise KeyboardInterrupt, to truncate traceback\u001b[0m\u001b[1;33m\u001b[0m\u001b[1;33m\u001b[0m\u001b[1;33m\u001b[0m\u001b[0m\n\u001b[1;32m--> 904\u001b[1;33m                 \u001b[1;32mraise\u001b[0m \u001b[0mKeyboardInterrupt\u001b[0m\u001b[1;33m(\u001b[0m\u001b[1;34m\"Interrupted by user\"\u001b[0m\u001b[1;33m)\u001b[0m \u001b[1;32mfrom\u001b[0m \u001b[1;32mNone\u001b[0m\u001b[1;33m\u001b[0m\u001b[1;33m\u001b[0m\u001b[0m\n\u001b[0m\u001b[0;32m    905\u001b[0m             \u001b[1;32mexcept\u001b[0m \u001b[0mException\u001b[0m \u001b[1;32mas\u001b[0m \u001b[0me\u001b[0m\u001b[1;33m:\u001b[0m\u001b[1;33m\u001b[0m\u001b[1;33m\u001b[0m\u001b[0m\n\u001b[0;32m    906\u001b[0m                 \u001b[0mself\u001b[0m\u001b[1;33m.\u001b[0m\u001b[0mlog\u001b[0m\u001b[1;33m.\u001b[0m\u001b[0mwarning\u001b[0m\u001b[1;33m(\u001b[0m\u001b[1;34m\"Invalid Message:\"\u001b[0m\u001b[1;33m,\u001b[0m \u001b[0mexc_info\u001b[0m\u001b[1;33m=\u001b[0m\u001b[1;32mTrue\u001b[0m\u001b[1;33m)\u001b[0m\u001b[1;33m\u001b[0m\u001b[1;33m\u001b[0m\u001b[0m\n",
      "\u001b[1;31mKeyboardInterrupt\u001b[0m: Interrupted by user"
     ]
    }
   ],
   "source": [
    "albums_list = []\n",
    "while True:\n",
    "    name = input('\\n What is the artist name').lower()\n",
    "    if title == 'quit':\n",
    "        break\n",
    "    album= input('\\n What is the album name').lower()\n",
    "    if artist == 'quit':\n",
    "        break\n",
    "    no_of_tracks = input('\\n How many tracks are?')\n",
    "    if no_of_tracks == 'quit':\n",
    "        break\n",
    "    \n",
    "    albums = make_album(name,album,tracks= int(no_of_tracks))\n",
    "    albums_list.append(albums)\n",
    "print(albums_list)\n",
    "    "
   ]
  },
  {
   "cell_type": "markdown",
   "metadata": {},
   "source": [
    "# Salary calculator"
   ]
  },
  {
   "cell_type": "code",
   "execution_count": 90,
   "metadata": {},
   "outputs": [],
   "source": [
    "def salaryCalc(basic_salary):\n",
    "    tax_ded = 0\n",
    "    if basic_salary < 30000:\n",
    "        tax_ded = 0\n",
    "    elif basic_salary >=30000 and basic_salary< 50000:\n",
    "        tax_ded = 5\n",
    "    elif basic_salary >=50000 and basic_salary<100000:\n",
    "        tax_ded = 10\n",
    "    else:\n",
    "        tax_ded = 15\n",
    "    \n",
    "    tot_ded = basic_salary * tax_ded/100\n",
    "    gross_salary = basic_salary - tot_ded\n",
    "    return gross_salary"
   ]
  },
  {
   "cell_type": "code",
   "execution_count": 91,
   "metadata": {},
   "outputs": [
    {
     "name": "stdout",
     "output_type": "stream",
     "text": [
      "\n",
      "Enter the basic salary of the employee200000\n",
      "170000.0\n"
     ]
    }
   ],
   "source": [
    "basic_salary = int(input(\"\\nEnter the basic salary of the employee\"))\n",
    "grosssalary = salaryCalc(basic_salary)\n",
    "print(grosssalary)"
   ]
  },
  {
   "cell_type": "code",
   "execution_count": 97,
   "metadata": {},
   "outputs": [
    {
     "name": "stdout",
     "output_type": "stream",
     "text": [
      "\n",
      "Enter the basic salary of the employee: 200000\n",
      "The gross salary of employee is 170000.0\n"
     ]
    }
   ],
   "source": [
    "def tax_ded():\n",
    "    tax_ded = 0\n",
    "    if basic_salary < 30000:\n",
    "        tax_ded = 0\n",
    "    elif basic_salary >=30000 and basic_salary< 50000:\n",
    "        tax_ded = 5\n",
    "    elif basic_salary >=50000 and basic_salary<100000:\n",
    "        tax_ded = 10\n",
    "    else:\n",
    "        tax_ded = 15\n",
    "    return tax_ded\n",
    "    \n",
    "def salaryCalc(basic_salary):\n",
    "    tax_ded1 = tax_ded()    \n",
    "    tot_ded = basic_salary * tax_ded1/100\n",
    "    gross_salary = basic_salary - tot_ded\n",
    "    return gross_salary\n",
    "\n",
    "basic_salary = int(input(\"\\nEnter the basic salary of the employee: \"))\n",
    "grosssalary = salaryCalc(basic_salary)\n",
    "print(f\"The gross salary of employee is {grosssalary}\")"
   ]
  },
  {
   "cell_type": "code",
   "execution_count": null,
   "metadata": {},
   "outputs": [],
   "source": []
  }
 ],
 "metadata": {
  "kernelspec": {
   "display_name": "Python 3",
   "language": "python",
   "name": "python3"
  },
  "language_info": {
   "codemirror_mode": {
    "name": "ipython",
    "version": 3
   },
   "file_extension": ".py",
   "mimetype": "text/x-python",
   "name": "python",
   "nbconvert_exporter": "python",
   "pygments_lexer": "ipython3",
   "version": "3.8.5"
  }
 },
 "nbformat": 4,
 "nbformat_minor": 4
}
