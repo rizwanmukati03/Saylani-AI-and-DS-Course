{
  "nbformat": 4,
  "nbformat_minor": 0,
  "metadata": {
    "kernelspec": {
      "display_name": "Python 3",
      "language": "python",
      "name": "python3"
    },
    "language_info": {
      "codemirror_mode": {
        "name": "ipython",
        "version": 3
      },
      "file_extension": ".py",
      "mimetype": "text/x-python",
      "name": "python",
      "nbconvert_exporter": "python",
      "pygments_lexer": "ipython3",
      "version": "3.7.6"
    },
    "colab": {
      "name": "exceptions.ipynb",
      "provenance": []
    }
  },
  "cells": [
    {
      "cell_type": "markdown",
      "metadata": {
        "id": "Zmocd_0pf5bl"
      },
      "source": [
        "# Error and Exception Handling"
      ]
    },
    {
      "cell_type": "code",
      "metadata": {
        "id": "Oa4bBFM-f5bq"
      },
      "source": [
        "5/0\n",
        "print(\"hellow\")"
      ],
      "execution_count": null,
      "outputs": []
    },
    {
      "cell_type": "code",
      "metadata": {
        "id": "jhr21K8if5bq",
        "outputId": "8aa23688-ba2e-4968-9577-39e9af1871ec"
      },
      "source": [
        "\n",
        "try:\n",
        "    a =int(input(\"Enter a number\")) \n",
        "    b =int(input(\"Enter a number\")) \n",
        "    c = a/b\n",
        "    print(c)\n",
        "except ZeroDivisionError:\n",
        "    print(\"Exception is caught ZeroDivisionError\")\n",
        "except ValueError:\n",
        "print('Hello Error')"
      ],
      "execution_count": null,
      "outputs": [
        {
          "output_type": "stream",
          "text": [
            "Enter a number1\n",
            "Enter a number2\n",
            "0.5\n",
            "Hello Error\n"
          ],
          "name": "stdout"
        }
      ]
    },
    {
      "cell_type": "code",
      "metadata": {
        "id": "wdD_Sl7af888",
        "outputId": "f42fba84-6f60-417a-a90a-0b2129ef6af0",
        "colab": {
          "base_uri": "https://localhost:8080/"
        }
      },
      "source": [
        "\r\n",
        "try:\r\n",
        "    a= int(input(\"Enter a number\"))\r\n",
        "    b= int(input(\"Enter a number\"))\r\n",
        "    d=[]\r\n",
        "    c=a/b\r\n",
        "    print(c)\r\n",
        "except ZeroDivisionError:\r\n",
        "    print('Exception is caught ZeroDivisionError')\r\n",
        "except IndexError:\r\n",
        "    print(\"Yeah! I have handled that error\")\r\n",
        "else:\r\n",
        "    print('nahi i') # when their is no exception.\r\n",
        "\r\n",
        "finally:\r\n",
        "    print(\"Finally\")\r\n",
        "print(\"Hello world\") # try to divide number by any character. Since, their is no exception handler then it will not run."
      ],
      "execution_count": 1,
      "outputs": [
        {
          "output_type": "stream",
          "text": [
            "Enter a number1\n",
            "Enter a number0\n",
            "Exception is caught ZeroDivisionError\n",
            "Finally\n",
            "Hello world\n"
          ],
          "name": "stdout"
        }
      ]
    },
    {
      "cell_type": "code",
      "metadata": {
        "id": "BR0c0iRDf5br",
        "outputId": "ab28d0eb-38aa-41bc-8e67-450e8031b355"
      },
      "source": [
        "\n",
        "a =int(input(\"Enter a number\")) \n",
        "b =int(input(\"Enter a number\")) \n",
        "\n",
        "\n",
        "c = a/b\n",
        "print(c)\n",
        "\n",
        "print('Hello World')"
      ],
      "execution_count": null,
      "outputs": [
        {
          "output_type": "stream",
          "text": [
            "Enter a number5\n",
            "Enter a number0\n"
          ],
          "name": "stdout"
        },
        {
          "output_type": "error",
          "ename": "ZeroDivisionError",
          "evalue": "division by zero",
          "traceback": [
            "\u001b[1;31m---------------------------------------------------------------------------\u001b[0m",
            "\u001b[1;31mZeroDivisionError\u001b[0m                         Traceback (most recent call last)",
            "\u001b[1;32m<ipython-input-3-c415b6da7b73>\u001b[0m in \u001b[0;36m<module>\u001b[1;34m\u001b[0m\n\u001b[0;32m      3\u001b[0m \u001b[1;33m\u001b[0m\u001b[0m\n\u001b[0;32m      4\u001b[0m \u001b[1;33m\u001b[0m\u001b[0m\n\u001b[1;32m----> 5\u001b[1;33m \u001b[0mc\u001b[0m \u001b[1;33m=\u001b[0m \u001b[0ma\u001b[0m\u001b[1;33m/\u001b[0m\u001b[0mb\u001b[0m\u001b[1;33m\u001b[0m\u001b[1;33m\u001b[0m\u001b[0m\n\u001b[0m\u001b[0;32m      6\u001b[0m \u001b[0mprint\u001b[0m\u001b[1;33m(\u001b[0m\u001b[0mc\u001b[0m\u001b[1;33m)\u001b[0m\u001b[1;33m\u001b[0m\u001b[1;33m\u001b[0m\u001b[0m\n\u001b[0;32m      7\u001b[0m \u001b[1;33m\u001b[0m\u001b[0m\n",
            "\u001b[1;31mZeroDivisionError\u001b[0m: division by zero"
          ]
        }
      ]
    },
    {
      "cell_type": "code",
      "metadata": {
        "id": "SCN8tb-sf5bs",
        "outputId": "1f227000-46c1-4685-d598-e8ad4e3d78ca"
      },
      "source": [
        "a = [1,2,3]\n",
        "try:\n",
        "    print(a[8])\n",
        "except IndexError:\n",
        "    print('Yeah! I Have handled that error')"
      ],
      "execution_count": null,
      "outputs": [
        {
          "output_type": "stream",
          "text": [
            "Yeah! I Have handled that error\n"
          ],
          "name": "stdout"
        }
      ]
    },
    {
      "cell_type": "code",
      "metadata": {
        "id": "rlpDKo1wf5bs",
        "outputId": "f9745001-96ae-4a5a-9c48-b48ef02cd863"
      },
      "source": [
        "a =int(input(\"Enter a number\")) \n",
        "b =int(input(\"Enter a number\")) \n",
        "d = []\n",
        "try:\n",
        "    c = a/b\n",
        "    print(d[2])\n",
        "except ZeroDivisionError:\n",
        "    print('Exception is caught ZeroDivisionError')\n",
        "except IndexError:\n",
        "    print('Yeah! I Have handled that error')\n",
        "else: print(\"nahi i \")\n",
        "    \n",
        "print('Hello World')"
      ],
      "execution_count": null,
      "outputs": [
        {
          "output_type": "stream",
          "text": [
            "Enter a number4\n",
            "Enter a number5\n",
            "Yeah! I Have handled that error\n",
            "Hello World\n"
          ],
          "name": "stdout"
        }
      ]
    },
    {
      "cell_type": "code",
      "metadata": {
        "id": "AfoY9suEf5bt",
        "outputId": "40fead03-b767-45d4-8cc8-6be2a7146ea2"
      },
      "source": [
        "a =int(input(\"Enter a number\")) \n",
        "b =int(input(\"Enter a number\")) \n",
        "try:\n",
        "    c = a/b\n",
        "    \n",
        "except ZeroDivisionError:\n",
        "    print(\"Handled ZeroDivisionError\")\n",
        "    print(\"Next code .......\")\n",
        "    \n",
        "\n",
        "else:print(\"Very good exception nahi i picnic pe chalte hen\")\n",
        "\n",
        "print(\"Ghar me he rehte hen\")"
      ],
      "execution_count": null,
      "outputs": [
        {
          "output_type": "stream",
          "text": [
            "Enter a number4\n",
            "Enter a number0\n",
            "Handled ZeroDivisionError\n",
            "Next code .......\n",
            "Ghar me he rehte hen\n"
          ],
          "name": "stdout"
        }
      ]
    },
    {
      "cell_type": "code",
      "metadata": {
        "id": "BcciJ17zf5bt"
      },
      "source": [
        "\n",
        "\n",
        "a =int(input(\"Enter a number\")) \n",
        "b =int(input(\"Enter a number\")) \n",
        "d = []\n",
        "try:\n",
        "    c = a/b\n",
        "    e = d[5]\n",
        "    print(e)\n",
        "except ZeroDivisionError:\n",
        "    print(\"Handled ZeroDivisionError\")\n",
        "else:\n",
        "    print(c)\n",
        "\n",
        "\n",
        "\n"
      ],
      "execution_count": null,
      "outputs": []
    },
    {
      "cell_type": "code",
      "metadata": {
        "id": "t1YUFq02f5bt"
      },
      "source": [
        "print(\"First\")\n",
        "a =int(input(\"Enter a number\")) \n",
        "b =int(input(\"Enter a number\")) \n",
        "d = []\n",
        "try:\n",
        "    c = a/b\n",
        "#     e = d[5]\n",
        "except ZeroDivisionError:\n",
        "    print(\"Handled ZeroDivisionError\")\n",
        "else:\n",
        "    print(c)\n",
        "\n",
        "print(\"last\")\n",
        "\n"
      ],
      "execution_count": null,
      "outputs": []
    },
    {
      "cell_type": "code",
      "metadata": {
        "id": "5GBlenqUf5bu"
      },
      "source": [
        "\n",
        "\n",
        "a =int(input(\"Enter a number\")) \n",
        "b =int(input(\"Enter a number\")) \n",
        "d = []\n",
        "try:\n",
        "    c = a/b\n",
        "    e = d[5]\n",
        "except ZeroDivisionError: #Type Z and press tab to get list of Exception\n",
        "    print(\"Exception is caught ZeroDivisionError\")\n",
        "except  IndexError:                #Type I and press tab to get list of Exception\n",
        "    print(\"Exception is caught is list index out of range\")\n",
        "else:\n",
        "    print(c)\n",
        "    print(e)\n",
        "\n",
        "\n"
      ],
      "execution_count": null,
      "outputs": []
    },
    {
      "cell_type": "code",
      "metadata": {
        "id": "eEWd036Df5bu",
        "outputId": "4aa94c35-63c3-490a-dfff-39f653f80d40"
      },
      "source": [
        "\n",
        "\n",
        " \n",
        "d = []\n",
        "try:\n",
        "    a =int(input(\"Enter a number\")) \n",
        "    b =int(input(\"Enter a number\")) \n",
        "    c = a/b\n",
        "    e = d[5]\n",
        "except:           # here we did not explain the type of exception. Genral exception will\n",
        "                  # be used. means it will catch every kind of exception\n",
        "    print(\"koi si bhi Exception is caught\")\n",
        "else:\n",
        "    print(c)\n",
        "\n",
        "\n"
      ],
      "execution_count": null,
      "outputs": [
        {
          "output_type": "stream",
          "text": [
            "Enter a number5\n",
            "Enter a number6\n",
            "koi si bhi Exception is caught\n"
          ],
          "name": "stdout"
        }
      ]
    },
    {
      "cell_type": "code",
      "metadata": {
        "id": "FJEY8PRyf5bu",
        "outputId": "ffcc1752-4c74-4b5e-c269-c6aeaf019628"
      },
      "source": [
        "\n",
        "# a =int(input(\"Enter a number\")) \n",
        "# b =int(input(\"Enter a number\")) \n",
        "d = []\n",
        "try:\n",
        "    '''built in message print karna hy exception ka to {except Exception as e:}\n",
        "    is me jistrah ki acception aegi wo uska message khud he utha k laega or print karega\n",
        "    is code ko khud se run kare or exception raise kar k dekhen'''\n",
        "    a =int(input(\"Enter a number\")) \n",
        "    b =int(input(\"Enter a number\"))\n",
        "    c = a/b\n",
        "    ee = d[5]\n",
        "except Exception as e:\n",
        "    print(\"Handled Error == \" +str(e))\n",
        "else:\n",
        "    print(c)\n",
        "\n",
        "print('HelloWorld')"
      ],
      "execution_count": null,
      "outputs": [
        {
          "output_type": "stream",
          "text": [
            "Enter a number8\n",
            "Enter a number0\n",
            "Handled Error == division by zero\n",
            "HelloWorld\n"
          ],
          "name": "stdout"
        }
      ]
    },
    {
      "cell_type": "code",
      "metadata": {
        "id": "Y1XqYM4Pf5bv"
      },
      "source": [
        "\n",
        "a =int(input(\"Enter a number\")) \n",
        "b =int(input(\"Enter a number\")) \n",
        "d = []\n",
        "try:\n",
        "    c = a/b\n",
        "    e = d[5]\n",
        "    \n",
        "    \"\"\"yahan ek humne apni message likha hy or ek built in use kia hy\"\"\"\n",
        "    \n",
        "except ZeroDivisionError:\n",
        "    print(\"Handel ZeroDivisionError\")\n",
        "    \n",
        "except Exception as e:\n",
        "    \n",
        "    print(\"Handle Error == \" +str(e))\n",
        "    \n",
        "else:\n",
        "    print(c)\n",
        "\n",
        "\n",
        "\n"
      ],
      "execution_count": null,
      "outputs": []
    },
    {
      "cell_type": "code",
      "metadata": {
        "id": "vuXTPILWf5bv",
        "outputId": "ca3b700a-0c31-47b6-b9cd-929eeb1ca0e8"
      },
      "source": [
        "\n",
        "\n",
        "a =int(input(\"Enter a number\")) \n",
        "b =int(input(\"Enter a number\")) \n",
        "d = []\n",
        "try:\n",
        "    c = a/b\n",
        "    e = d[5]\n",
        "except ZeroDivisionError:\n",
        "    print(\"Handel ZeroDivisionError\")\n",
        "\n",
        "else:\n",
        "    print(c)\n",
        "\n",
        "finally:\n",
        "    print(\"Finally will always run\")\n",
        "\n",
        "\n",
        "\n"
      ],
      "execution_count": null,
      "outputs": [
        {
          "output_type": "stream",
          "text": [
            "Enter a number5\n",
            "Enter a number8\n",
            "Finally will always run\n"
          ],
          "name": "stdout"
        },
        {
          "output_type": "error",
          "ename": "IndexError",
          "evalue": "list index out of range",
          "traceback": [
            "\u001b[1;31m---------------------------------------------------------------------------\u001b[0m",
            "\u001b[1;31mIndexError\u001b[0m                                Traceback (most recent call last)",
            "\u001b[1;32m<ipython-input-21-022dfe684d48>\u001b[0m in \u001b[0;36m<module>\u001b[1;34m\u001b[0m\n\u001b[0;32m      4\u001b[0m \u001b[1;32mtry\u001b[0m\u001b[1;33m:\u001b[0m\u001b[1;33m\u001b[0m\u001b[1;33m\u001b[0m\u001b[0m\n\u001b[0;32m      5\u001b[0m     \u001b[0mc\u001b[0m \u001b[1;33m=\u001b[0m \u001b[0ma\u001b[0m\u001b[1;33m/\u001b[0m\u001b[0mb\u001b[0m\u001b[1;33m\u001b[0m\u001b[1;33m\u001b[0m\u001b[0m\n\u001b[1;32m----> 6\u001b[1;33m     \u001b[0me\u001b[0m \u001b[1;33m=\u001b[0m \u001b[0md\u001b[0m\u001b[1;33m[\u001b[0m\u001b[1;36m5\u001b[0m\u001b[1;33m]\u001b[0m\u001b[1;33m\u001b[0m\u001b[1;33m\u001b[0m\u001b[0m\n\u001b[0m\u001b[0;32m      7\u001b[0m \u001b[1;32mexcept\u001b[0m \u001b[0mZeroDivisionError\u001b[0m\u001b[1;33m:\u001b[0m\u001b[1;33m\u001b[0m\u001b[1;33m\u001b[0m\u001b[0m\n\u001b[0;32m      8\u001b[0m     \u001b[0mprint\u001b[0m\u001b[1;33m(\u001b[0m\u001b[1;34m\"Handel ZeroDivisionError\"\u001b[0m\u001b[1;33m)\u001b[0m\u001b[1;33m\u001b[0m\u001b[1;33m\u001b[0m\u001b[0m\n",
            "\u001b[1;31mIndexError\u001b[0m: list index out of range"
          ]
        }
      ]
    },
    {
      "cell_type": "code",
      "metadata": {
        "id": "4QDYxcuYf5bv"
      },
      "source": [
        ""
      ],
      "execution_count": null,
      "outputs": []
    },
    {
      "cell_type": "markdown",
      "metadata": {
        "id": "2N1v_86Nf5bw"
      },
      "source": [
        "###Rasing our own exceptions\n",
        "\n",
        "We can rasie exception by ourselves. ony any condition we defined like if a>10 raise exception\n",
        "like if user inputs value 10 raise exception bla bla bla bla......"
      ]
    },
    {
      "cell_type": "code",
      "metadata": {
        "id": "jClizV2gf5bw"
      },
      "source": [
        "\n",
        "class Student():\n",
        "    def __init__(self,name,age):\n",
        "        if age < 80 or age >16:\n",
        "            raise Exception(\"Age can not be greater then 80 and less then 16\")\n",
        "        self.name = name\n",
        "        self.age = age"
      ],
      "execution_count": 2,
      "outputs": []
    },
    {
      "cell_type": "code",
      "metadata": {
        "id": "XrzGyYHWf5bw",
        "outputId": "e1e1b908-7688-42d8-c156-0efbdebd8994",
        "colab": {
          "base_uri": "https://localhost:8080/",
          "height": 362
        }
      },
      "source": [
        "age = int(input(\"Enter students age: \"))\n",
        "\n",
        "\n",
        "st = Student(\"ALi\",age)\n",
        "\n",
        "\n",
        "print(st.age)\n"
      ],
      "execution_count": 3,
      "outputs": [
        {
          "output_type": "stream",
          "text": [
            "Enter students age: 5\n"
          ],
          "name": "stdout"
        },
        {
          "output_type": "error",
          "ename": "Exception",
          "evalue": "ignored",
          "traceback": [
            "\u001b[0;31m---------------------------------------------------------------------------\u001b[0m",
            "\u001b[0;31mException\u001b[0m                                 Traceback (most recent call last)",
            "\u001b[0;32m<ipython-input-3-b71dfc1b04c4>\u001b[0m in \u001b[0;36m<module>\u001b[0;34m()\u001b[0m\n\u001b[1;32m      2\u001b[0m \u001b[0;34m\u001b[0m\u001b[0m\n\u001b[1;32m      3\u001b[0m \u001b[0;34m\u001b[0m\u001b[0m\n\u001b[0;32m----> 4\u001b[0;31m \u001b[0mst\u001b[0m \u001b[0;34m=\u001b[0m \u001b[0mStudent\u001b[0m\u001b[0;34m(\u001b[0m\u001b[0;34m\"ALi\"\u001b[0m\u001b[0;34m,\u001b[0m\u001b[0mage\u001b[0m\u001b[0;34m)\u001b[0m\u001b[0;34m\u001b[0m\u001b[0;34m\u001b[0m\u001b[0m\n\u001b[0m\u001b[1;32m      5\u001b[0m \u001b[0;34m\u001b[0m\u001b[0m\n\u001b[1;32m      6\u001b[0m \u001b[0;34m\u001b[0m\u001b[0m\n",
            "\u001b[0;32m<ipython-input-2-92f1ba4faa21>\u001b[0m in \u001b[0;36m__init__\u001b[0;34m(self, name, age)\u001b[0m\n\u001b[1;32m      3\u001b[0m     \u001b[0;32mdef\u001b[0m \u001b[0m__init__\u001b[0m\u001b[0;34m(\u001b[0m\u001b[0mself\u001b[0m\u001b[0;34m,\u001b[0m\u001b[0mname\u001b[0m\u001b[0;34m,\u001b[0m\u001b[0mage\u001b[0m\u001b[0;34m)\u001b[0m\u001b[0;34m:\u001b[0m\u001b[0;34m\u001b[0m\u001b[0;34m\u001b[0m\u001b[0m\n\u001b[1;32m      4\u001b[0m         \u001b[0;32mif\u001b[0m \u001b[0mage\u001b[0m \u001b[0;34m<\u001b[0m \u001b[0;36m80\u001b[0m \u001b[0;32mor\u001b[0m \u001b[0mage\u001b[0m \u001b[0;34m>\u001b[0m\u001b[0;36m16\u001b[0m\u001b[0;34m:\u001b[0m\u001b[0;34m\u001b[0m\u001b[0;34m\u001b[0m\u001b[0m\n\u001b[0;32m----> 5\u001b[0;31m             \u001b[0;32mraise\u001b[0m \u001b[0mException\u001b[0m\u001b[0;34m(\u001b[0m\u001b[0;34m\"Age can not be greater then 80 and less then 16\"\u001b[0m\u001b[0;34m)\u001b[0m\u001b[0;34m\u001b[0m\u001b[0;34m\u001b[0m\u001b[0m\n\u001b[0m\u001b[1;32m      6\u001b[0m         \u001b[0mself\u001b[0m\u001b[0;34m.\u001b[0m\u001b[0mname\u001b[0m \u001b[0;34m=\u001b[0m \u001b[0mname\u001b[0m\u001b[0;34m\u001b[0m\u001b[0;34m\u001b[0m\u001b[0m\n\u001b[1;32m      7\u001b[0m         \u001b[0mself\u001b[0m\u001b[0;34m.\u001b[0m\u001b[0mage\u001b[0m \u001b[0;34m=\u001b[0m \u001b[0mage\u001b[0m\u001b[0;34m\u001b[0m\u001b[0;34m\u001b[0m\u001b[0m\n",
            "\u001b[0;31mException\u001b[0m: Age can not be greater then 80 and less then 16"
          ]
        }
      ]
    },
    {
      "cell_type": "markdown",
      "metadata": {
        "id": "UKgX3JJJf5bw"
      },
      "source": [
        "#Catching the exception raised by ourself###\n",
        "Exception catch karne ki liye wahi kam karenge k jahan se raise hone k dar ho usko try me\n",
        "dal den. or except me catch kara den. Go through the code......"
      ]
    },
    {
      "cell_type": "code",
      "metadata": {
        "id": "LVp2CTnvf5bw"
      },
      "source": [
        "class Student():\n",
        "    def __init__(self,name,age):\n",
        "        if age > 80:\n",
        "            raise Exception(\"Age can not be greater then 80\")\n",
        "        self.name = name\n",
        "        self.age = age\n",
        "\n",
        "\n"
      ],
      "execution_count": 4,
      "outputs": []
    },
    {
      "cell_type": "code",
      "metadata": {
        "id": "_fce9gXQf5bx",
        "outputId": "636986d8-523e-4c85-ce24-3f617108bf27",
        "colab": {
          "base_uri": "https://localhost:8080/"
        }
      },
      "source": [
        "\n",
        "'''ab humen try except laga diya hy code crash nahi hoga or izzat batch jaegi hahahahah'''\n",
        "try:\n",
        "    age = int(input(\"Enter students age: \"))\n",
        "    st = Student(\"Hello\",age)   # send different ages and see the result\n",
        "except Exception as e:\n",
        "    print(\"Exception \"+str(e))\n",
        "else :\n",
        "    print(st.age)\n"
      ],
      "execution_count": 6,
      "outputs": [
        {
          "output_type": "stream",
          "text": [
            "Enter students age: 81\n",
            "Exception Age can not be greater then 80\n"
          ],
          "name": "stdout"
        }
      ]
    },
    {
      "cell_type": "markdown",
      "metadata": {
        "id": "YHji6NM3f5bx"
      },
      "source": [
        "\n",
        "#####################################################\n",
        "#######Importantttttttttttttttttttttttttttttttt######\n",
        "#####################################################"
      ]
    },
    {
      "cell_type": "markdown",
      "metadata": {
        "id": "6AGks3DJf5bx"
      },
      "source": [
        "Making our class of exception::::::::\n",
        "Raising exception ourselves::::::\n",
        "\n",
        "Last code me we used python exception class\n",
        "Now we will make our own exception class and will used in the code.\n",
        "Dont panic guls and guys...\n",
        "\n"
      ]
    },
    {
      "cell_type": "code",
      "metadata": {
        "id": "dSnZYBOif5bx"
      },
      "source": [
        "\n",
        "class Student():\n",
        "    def __init__(self,name,age):\n",
        "        if age > 80 or age <16:\n",
        "            raise StudentAgeException(\"Age can not be greater then 80 and less then 16\")\n",
        "            # we used here own class of exceptio\n",
        "        self.name = name\n",
        "        self.age = age\n",
        "\n",
        "'''All the exception raised are derived from a class Exception by default \n",
        "   We can make our own class of exception and can derived(inherit) it from parent\n",
        "   Exception class like this:'''        \n",
        "        \n",
        "class StudentAgeException(Exception):\n",
        "    pass\n"
      ],
      "execution_count": 10,
      "outputs": []
    },
    {
      "cell_type": "code",
      "metadata": {
        "scrolled": true,
        "id": "yGYTChr3f5bx",
        "outputId": "498c08a0-5bfd-4e04-ad73-f1389c2e09ad",
        "colab": {
          "base_uri": "https://localhost:8080/",
          "height": 362
        }
      },
      "source": [
        "age = int(input(\"Enter students age: \"))\n",
        "st = Student(\"Hello\",age)\n",
        "# abhi it is creating exception that is not handled\n",
        "print(st.age)\n",
        "\n",
        "####Note###\n",
        "'''exception raise karane k liye humne Exception python ki general wali use nahiiiiiii ki hy\n",
        "   abhi code crash hogaya hy kyu k humne abhi exception catch nahiiiiiiiiiiiiiiiiii ki hy'''"
      ],
      "execution_count": 11,
      "outputs": [
        {
          "output_type": "stream",
          "text": [
            "Enter students age: 81\n"
          ],
          "name": "stdout"
        },
        {
          "output_type": "error",
          "ename": "StudentAgeException",
          "evalue": "ignored",
          "traceback": [
            "\u001b[0;31m---------------------------------------------------------------------------\u001b[0m",
            "\u001b[0;31mStudentAgeException\u001b[0m                       Traceback (most recent call last)",
            "\u001b[0;32m<ipython-input-11-6995fbd48f4c>\u001b[0m in \u001b[0;36m<module>\u001b[0;34m()\u001b[0m\n\u001b[1;32m      1\u001b[0m \u001b[0mage\u001b[0m \u001b[0;34m=\u001b[0m \u001b[0mint\u001b[0m\u001b[0;34m(\u001b[0m\u001b[0minput\u001b[0m\u001b[0;34m(\u001b[0m\u001b[0;34m\"Enter students age: \"\u001b[0m\u001b[0;34m)\u001b[0m\u001b[0;34m)\u001b[0m\u001b[0;34m\u001b[0m\u001b[0;34m\u001b[0m\u001b[0m\n\u001b[0;32m----> 2\u001b[0;31m \u001b[0mst\u001b[0m \u001b[0;34m=\u001b[0m \u001b[0mStudent\u001b[0m\u001b[0;34m(\u001b[0m\u001b[0;34m\"Hello\"\u001b[0m\u001b[0;34m,\u001b[0m\u001b[0mage\u001b[0m\u001b[0;34m)\u001b[0m\u001b[0;34m\u001b[0m\u001b[0;34m\u001b[0m\u001b[0m\n\u001b[0m\u001b[1;32m      3\u001b[0m \u001b[0;31m# abhi it is creating exception that is not handled\u001b[0m\u001b[0;34m\u001b[0m\u001b[0;34m\u001b[0m\u001b[0;34m\u001b[0m\u001b[0m\n\u001b[1;32m      4\u001b[0m \u001b[0mprint\u001b[0m\u001b[0;34m(\u001b[0m\u001b[0mst\u001b[0m\u001b[0;34m.\u001b[0m\u001b[0mage\u001b[0m\u001b[0;34m)\u001b[0m\u001b[0;34m\u001b[0m\u001b[0;34m\u001b[0m\u001b[0m\n\u001b[1;32m      5\u001b[0m \u001b[0;34m\u001b[0m\u001b[0m\n",
            "\u001b[0;32m<ipython-input-10-51ba8ac48b91>\u001b[0m in \u001b[0;36m__init__\u001b[0;34m(self, name, age)\u001b[0m\n\u001b[1;32m      3\u001b[0m     \u001b[0;32mdef\u001b[0m \u001b[0m__init__\u001b[0m\u001b[0;34m(\u001b[0m\u001b[0mself\u001b[0m\u001b[0;34m,\u001b[0m\u001b[0mname\u001b[0m\u001b[0;34m,\u001b[0m\u001b[0mage\u001b[0m\u001b[0;34m)\u001b[0m\u001b[0;34m:\u001b[0m\u001b[0;34m\u001b[0m\u001b[0;34m\u001b[0m\u001b[0m\n\u001b[1;32m      4\u001b[0m         \u001b[0;32mif\u001b[0m \u001b[0mage\u001b[0m \u001b[0;34m>\u001b[0m \u001b[0;36m80\u001b[0m \u001b[0;32mor\u001b[0m \u001b[0mage\u001b[0m \u001b[0;34m<\u001b[0m\u001b[0;36m16\u001b[0m\u001b[0;34m:\u001b[0m\u001b[0;34m\u001b[0m\u001b[0;34m\u001b[0m\u001b[0m\n\u001b[0;32m----> 5\u001b[0;31m             \u001b[0;32mraise\u001b[0m \u001b[0mStudentAgeException\u001b[0m\u001b[0;34m(\u001b[0m\u001b[0;34m\"Age can not be greater then 80 and less then 16\"\u001b[0m\u001b[0;34m)\u001b[0m\u001b[0;34m\u001b[0m\u001b[0;34m\u001b[0m\u001b[0m\n\u001b[0m\u001b[1;32m      6\u001b[0m             \u001b[0;31m# we used here own class of exceptio\u001b[0m\u001b[0;34m\u001b[0m\u001b[0;34m\u001b[0m\u001b[0;34m\u001b[0m\u001b[0m\n\u001b[1;32m      7\u001b[0m         \u001b[0mself\u001b[0m\u001b[0;34m.\u001b[0m\u001b[0mname\u001b[0m \u001b[0;34m=\u001b[0m \u001b[0mname\u001b[0m\u001b[0;34m\u001b[0m\u001b[0;34m\u001b[0m\u001b[0m\n",
            "\u001b[0;31mStudentAgeException\u001b[0m: Age can not be greater then 80 and less then 16"
          ]
        }
      ]
    },
    {
      "cell_type": "markdown",
      "metadata": {
        "id": "nBDcVf1Kf5by"
      },
      "source": [
        "\n",
        "#################################################################################\n",
        "Raising and catching our own exception [[[[defined in our own exception class]]]]\n",
        "Raising and catching our own exception [[[[defined in our own exception class]]]]\n",
        "Raising and catching our own exception [[[[defined in our own exception class]]]]\n",
        "Raising and catching our own exception [[[[defined in our own exception class]]]]\n",
        "Raising and catching our own exception [[[[defined in our own exception class]]]]\n",
        "#################################################################################"
      ]
    },
    {
      "cell_type": "code",
      "metadata": {
        "id": "2ji-hW81f5bz",
        "outputId": "12e73a75-620c-40bf-975b-7d671b224e49",
        "colab": {
          "base_uri": "https://localhost:8080/"
        }
      },
      "source": [
        "\n",
        "class Student():\n",
        "    def __init__(self,name,age):\n",
        "        if age > 80 or age <16:\n",
        "            raise StudentAgeException(\"Age can not be greater then 80 and less then 16\")\n",
        "        self.name = name\n",
        "        self.age = age\n",
        "\n",
        "class StudentAgeException(Exception):\n",
        "    pass\n",
        "\n",
        "\n",
        "try:\n",
        "    age = int(input(\"Enter students age: \"))\n",
        "    st = Student(\"Hello\",age)\n",
        "\n",
        "except StudentAgeException as e:\n",
        "    print(\"StudentAgeException == \"+str(e))\n",
        "else :\n",
        "    print(st.age) \n",
        "\n"
      ],
      "execution_count": 12,
      "outputs": [
        {
          "output_type": "stream",
          "text": [
            "Enter students age: 50\n",
            "50\n"
          ],
          "name": "stdout"
        }
      ]
    },
    {
      "cell_type": "code",
      "metadata": {
        "id": "cY_ot5zdf5bz"
      },
      "source": [
        ""
      ],
      "execution_count": null,
      "outputs": []
    },
    {
      "cell_type": "code",
      "metadata": {
        "id": "dxC0Zl4ff5bz"
      },
      "source": [
        ""
      ],
      "execution_count": null,
      "outputs": []
    }
  ]
}