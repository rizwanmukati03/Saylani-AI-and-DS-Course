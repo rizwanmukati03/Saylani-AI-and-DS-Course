{
 "cells": [
  {
   "cell_type": "code",
   "execution_count": 10,
   "metadata": {},
   "outputs": [],
   "source": [
    "class Dog():\n",
    "    #Characteristics/Attributes/properties>>>>variables\n",
    "    def __init__(self, name, age, breed, color):\n",
    "        self.name = name\n",
    "        self.age = age\n",
    "        self.breed = breed\n",
    "        self.color = color\n",
    "        print(\"Dog create hogya hai\")\n",
    "    #Behaviours/ Actions >>>>methods/functions\n",
    "    def bark():\n",
    "        pass\n",
    "    def walk():\n",
    "        pass\n",
    "    def rollover():\n",
    "        pass\n",
    "    def bite():\n",
    "        pass"
   ]
  },
  {
   "cell_type": "code",
   "execution_count": 11,
   "metadata": {},
   "outputs": [
    {
     "name": "stdout",
     "output_type": "stream",
     "text": [
      "Dog create hogya hai\n"
     ]
    }
   ],
   "source": [
    "dog1 = Dog('Tommy',5,'German','black')"
   ]
  },
  {
   "cell_type": "code",
   "execution_count": 12,
   "metadata": {},
   "outputs": [
    {
     "name": "stdout",
     "output_type": "stream",
     "text": [
      "Dog create hogya hai\n"
     ]
    }
   ],
   "source": [
    "dog2 = Dog('rainbow',2,'korean','white')"
   ]
  },
  {
   "cell_type": "code",
   "execution_count": 13,
   "metadata": {},
   "outputs": [
    {
     "data": {
      "text/plain": [
       "'rainbow'"
      ]
     },
     "execution_count": 13,
     "metadata": {},
     "output_type": "execute_result"
    }
   ],
   "source": [
    "dog2.name"
   ]
  },
  {
   "cell_type": "code",
   "execution_count": 29,
   "metadata": {},
   "outputs": [],
   "source": [
    "#name , age, bloodgroup\n",
    "# walk, sleep\n",
    "class human():\n",
    "    # class variable is defined here\n",
    "    def __init__(self,name, age, bloodgroup): # contains those characteristics which are uncommon / unique\n",
    "        self.name = name # instance variable\n",
    "        self.age = age\n",
    "        self.bloodgroup = bloodgroup\n",
    "    def walk(self):\n",
    "        pass\n",
    "    def sleep(self):\n",
    "        pass\n",
    "        "
   ]
  },
  {
   "cell_type": "code",
   "execution_count": 30,
   "metadata": {},
   "outputs": [],
   "source": [
    "rizwan = human(\"rizwan\",28,'B+')"
   ]
  },
  {
   "cell_type": "code",
   "execution_count": 26,
   "metadata": {},
   "outputs": [],
   "source": [
    "rizwan.walk()"
   ]
  },
  {
   "cell_type": "code",
   "execution_count": 33,
   "metadata": {},
   "outputs": [],
   "source": [
    "class student():\n",
    "    def __init__(self,name,reg_no,height):\n",
    "        self.name =  name\n",
    "        self.reg_no = reg_no\n",
    "        self.height = height\n",
    "    def fees():\n",
    "        pass\n",
    "    def exam():\n",
    "        pass\n",
    "        "
   ]
  },
  {
   "cell_type": "code",
   "execution_count": 43,
   "metadata": {},
   "outputs": [],
   "source": [
    "#an employee can take leave,\n",
    "#an employee can attend meeting\n",
    "class employee():\n",
    "    def __init__(self,name, employee_id, designation):\n",
    "        self.name = name\n",
    "        self.employee_id = employee_id\n",
    "        self.designation = designation\n",
    "    def leave():\n",
    "        pass\n",
    "    def meeting():\n",
    "        pass"
   ]
  },
  {
   "cell_type": "code",
   "execution_count": 44,
   "metadata": {},
   "outputs": [
    {
     "name": "stdout",
     "output_type": "stream",
     "text": [
      "<class 'type'>\n"
     ]
    }
   ],
   "source": [
    "print(type(int)) "
   ]
  },
  {
   "cell_type": "code",
   "execution_count": 45,
   "metadata": {},
   "outputs": [
    {
     "name": "stdout",
     "output_type": "stream",
     "text": [
      "<class 'type'>\n"
     ]
    }
   ],
   "source": [
    "print(type(employee))"
   ]
  },
  {
   "cell_type": "code",
   "execution_count": null,
   "metadata": {},
   "outputs": [],
   "source": []
  }
 ],
 "metadata": {
  "kernelspec": {
   "display_name": "Python 3",
   "language": "python",
   "name": "python3"
  },
  "language_info": {
   "codemirror_mode": {
    "name": "ipython",
    "version": 3
   },
   "file_extension": ".py",
   "mimetype": "text/x-python",
   "name": "python",
   "nbconvert_exporter": "python",
   "pygments_lexer": "ipython3",
   "version": "3.8.5"
  }
 },
 "nbformat": 4,
 "nbformat_minor": 4
}
