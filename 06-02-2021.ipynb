{
 "cells": [
  {
   "cell_type": "code",
   "execution_count": 1,
   "metadata": {},
   "outputs": [],
   "source": [
    "%run car.py"
   ]
  },
  {
   "cell_type": "code",
   "execution_count": 2,
   "metadata": {},
   "outputs": [],
   "source": [
    "from car import Car"
   ]
  },
  {
   "cell_type": "code",
   "execution_count": 4,
   "metadata": {},
   "outputs": [],
   "source": [
    "car1 = Car('tesla','abc','2020')"
   ]
  },
  {
   "cell_type": "code",
   "execution_count": 6,
   "metadata": {},
   "outputs": [
    {
     "name": "stdout",
     "output_type": "stream",
     "text": [
      "This car has 0 miles on it.\n"
     ]
    }
   ],
   "source": [
    "car1.read_odometer()"
   ]
  },
  {
   "cell_type": "code",
   "execution_count": 8,
   "metadata": {},
   "outputs": [],
   "source": [
    "# create a file abc.txt, it is not compulsory to create. It will create automaticallly and write on it\n",
    "# open(file name,to write) \n",
    "# obj is file handler\n",
    "# if you run again and again, it will overwrite\n",
    "with open(\"abc.txt\",'w') as obj:\n",
    "    obj.write(\"Hello File\")"
   ]
  },
  {
   "cell_type": "code",
   "execution_count": 11,
   "metadata": {},
   "outputs": [
    {
     "name": "stdout",
     "output_type": "stream",
     "text": [
      "Hello File\n"
     ]
    }
   ],
   "source": [
    "with open(\"abc.txt\",'r') as f:\n",
    "    content = f.read() #jo bhi read kr k lao aur content main store krdo\n",
    "    #content1 = f.read()\n",
    "print(content)"
   ]
  },
  {
   "cell_type": "code",
   "execution_count": 18,
   "metadata": {},
   "outputs": [
    {
     "name": "stdout",
     "output_type": "stream",
     "text": [
      "Hello File\n",
      "\n"
     ]
    }
   ],
   "source": [
    "with open(\"abc.txt\",'r') as f:\n",
    "    content = f.read() #jo bhi read kr k lao aur content main store krdo\n",
    "    content1 = f.read()\n",
    "print(content)\n",
    "print(content1)"
   ]
  },
  {
   "cell_type": "code",
   "execution_count": null,
   "metadata": {},
   "outputs": [],
   "source": [
    "#cntrl + forward slash to comment multiple \n",
    "\n",
    "# with open(\"abc.txt\",'r') as f:\n",
    "#     content = f.read() #jo bhi read kr k lao aur content main store krdo\n",
    "#     content1 = f.read()\n",
    "# print(content)\n",
    "# print(content1)"
   ]
  },
  {
   "cell_type": "code",
   "execution_count": 19,
   "metadata": {},
   "outputs": [
    {
     "name": "stdout",
     "output_type": "stream",
     "text": [
      "Hello File\n",
      "lo File\n"
     ]
    }
   ],
   "source": [
    "with open(\"abc.txt\",'r') as f:\n",
    "    content = f.read() #jo bhi read kr k lao aur content main store krdo\n",
    "    f.seek(3) # again come to the cursor position 3 \n",
    "    content1 = f.read() # start reading again\n",
    "print(content)\n",
    "print(content1)"
   ]
  },
  {
   "cell_type": "code",
   "execution_count": 25,
   "metadata": {},
   "outputs": [],
   "source": [
    "#it will not overwrite because the file is not closed\n",
    "with open(\"abc.txt\",'w') as obj:\n",
    "    obj.write(\"I am over \\n\")\n",
    "    obj.write(\"I am another file that does not exist1 \\n\")\n",
    "    obj.write(\"I am another file that does not exist2 \\n\")\n",
    "    obj.write(\"I am another file that does not exist3 \\n\")\n",
    "    obj.write(\"I am another file that does not exist4 \\n\")"
   ]
  },
  {
   "cell_type": "code",
   "execution_count": 26,
   "metadata": {},
   "outputs": [
    {
     "name": "stdout",
     "output_type": "stream",
     "text": [
      "I am over \n",
      "I am another file that does not exist1 \n",
      "I am another file that does not exist2 \n",
      "I am another file that does not exist3 \n",
      "I am another file that does not exist4 \n",
      "\n"
     ]
    }
   ],
   "source": [
    "with open(\"abc.txt\",'r') as f:\n",
    "    content = f.read() #jo bhi read kr k lao aur content main store krdo\n",
    "print(content)"
   ]
  },
  {
   "cell_type": "code",
   "execution_count": 28,
   "metadata": {},
   "outputs": [
    {
     "name": "stdout",
     "output_type": "stream",
     "text": [
      "I am over \n",
      "\n"
     ]
    }
   ],
   "source": [
    "with open(\"abc.txt\",'r') as f:\n",
    "    line = f.readline() # read the first line only\n",
    "print(line)"
   ]
  },
  {
   "cell_type": "code",
   "execution_count": 29,
   "metadata": {},
   "outputs": [
    {
     "name": "stdout",
     "output_type": "stream",
     "text": [
      "['I am over \\n', 'I am another file that does not exist1 \\n', 'I am another file that does not exist2 \\n', 'I am another file that does not exist3 \\n', 'I am another file that does not exist4 \\n']\n"
     ]
    }
   ],
   "source": [
    "with open(\"abc.txt\",'r') as f:\n",
    "    line = f.readlines() # read all the lines\n",
    "print(line) # it stores in the form of list"
   ]
  },
  {
   "cell_type": "code",
   "execution_count": 31,
   "metadata": {},
   "outputs": [],
   "source": [
    "#it will not overwrite. It will append to the previous data\n",
    "with open(\"abc.txt\",'a') as obj:\n",
    "    obj.write(\"I am over \\n\")\n",
    "    obj.write(\"I am another file that does not exist1 \\n\")\n",
    "    obj.write(\"I am another file that does not exist2 \\n\")\n",
    "    obj.write(\"I am another file that does not exist3 \\n\")\n",
    "    obj.write(\"I am another file that does not exist4 \\n\")"
   ]
  },
  {
   "cell_type": "code",
   "execution_count": null,
   "metadata": {},
   "outputs": [],
   "source": [
    "# 'w+' & 'r+'. Both can read and write but \n"
   ]
  },
  {
   "cell_type": "code",
   "execution_count": null,
   "metadata": {},
   "outputs": [],
   "source": []
  }
 ],
 "metadata": {
  "kernelspec": {
   "display_name": "Python 3",
   "language": "python",
   "name": "python3"
  },
  "language_info": {
   "codemirror_mode": {
    "name": "ipython",
    "version": 3
   },
   "file_extension": ".py",
   "mimetype": "text/x-python",
   "name": "python",
   "nbconvert_exporter": "python",
   "pygments_lexer": "ipython3",
   "version": "3.8.5"
  }
 },
 "nbformat": 4,
 "nbformat_minor": 4
}
