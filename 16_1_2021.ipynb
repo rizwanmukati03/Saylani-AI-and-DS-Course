{
  "nbformat": 4,
  "nbformat_minor": 0,
  "metadata": {
    "colab": {
      "name": "16/1/2021.ipynb",
      "provenance": [],
      "collapsed_sections": [],
      "authorship_tag": "ABX9TyP6vhw9ZrI+sqtzT7A3qfti",
      "include_colab_link": true
    },
    "kernelspec": {
      "name": "python3",
      "display_name": "Python 3"
    }
  },
  "cells": [
    {
      "cell_type": "markdown",
      "metadata": {
        "id": "view-in-github",
        "colab_type": "text"
      },
      "source": [
        "<a href=\"https://colab.research.google.com/github/rizwanmukati03/Saylani-AI-and-DS-Course/blob/main/16_1_2021.ipynb\" target=\"_parent\"><img src=\"https://colab.research.google.com/assets/colab-badge.svg\" alt=\"Open In Colab\"/></a>"
      ]
    },
    {
      "cell_type": "markdown",
      "metadata": {
        "id": "ET_E9TDtgwnr"
      },
      "source": [
        "# For loop"
      ]
    },
    {
      "cell_type": "code",
      "metadata": {
        "id": "p7C_XbbIgeLE"
      },
      "source": [
        "import math "
      ],
      "execution_count": 1,
      "outputs": []
    },
    {
      "cell_type": "code",
      "metadata": {
        "colab": {
          "base_uri": "https://localhost:8080/"
        },
        "id": "UiizKVshhRQa",
        "outputId": "d87f70a2-9376-498f-8f2d-1dc653fa76a0"
      },
      "source": [
        "math.cos(90) #method calling of class"
      ],
      "execution_count": 4,
      "outputs": [
        {
          "output_type": "execute_result",
          "data": {
            "text/plain": [
              "-0.4480736161291701"
            ]
          },
          "metadata": {
            "tags": []
          },
          "execution_count": 4
        }
      ]
    },
    {
      "cell_type": "code",
      "metadata": {
        "colab": {
          "base_uri": "https://localhost:8080/"
        },
        "id": "FIGlpGmhhZRx",
        "outputId": "1bb4692a-1487-4408-d00f-3904af8886cf"
      },
      "source": [
        "math.sin(90)"
      ],
      "execution_count": 3,
      "outputs": [
        {
          "output_type": "execute_result",
          "data": {
            "text/plain": [
              "0.8939966636005579"
            ]
          },
          "metadata": {
            "tags": []
          },
          "execution_count": 3
        }
      ]
    },
    {
      "cell_type": "code",
      "metadata": {
        "id": "FUpB-S1bhgHg"
      },
      "source": [
        "def call():\r\n",
        "  name = input(\"Enter your name: \")\r\n",
        "  print(\"Welcome Mr.\", name )\r\n"
      ],
      "execution_count": 11,
      "outputs": []
    },
    {
      "cell_type": "code",
      "metadata": {
        "colab": {
          "base_uri": "https://localhost:8080/"
        },
        "id": "cqq19rc0iXVz",
        "outputId": "8d39e6b9-cc3d-4110-b034-1e27bd854813"
      },
      "source": [
        "# function calling\r\n",
        "call()"
      ],
      "execution_count": 12,
      "outputs": [
        {
          "output_type": "stream",
          "text": [
            "Enter your name: Rizwan\n",
            "Welcome Mr. Rizwan\n"
          ],
          "name": "stdout"
        }
      ]
    },
    {
      "cell_type": "code",
      "metadata": {
        "id": "vZJROQeMjfvI"
      },
      "source": [
        "def call():\r\n",
        "  name = input(\"Enter your name: \")\r\n",
        "  gender = input(\"Enter your gender. \").lower()\r\n",
        "  if gender == \"male\":\r\n",
        "    print(\"Welcome Mr.\", name )\r\n",
        "  else:\r\n",
        "    print(\"Welcome Miss.\", name )\r\n"
      ],
      "execution_count": 14,
      "outputs": []
    },
    {
      "cell_type": "code",
      "metadata": {
        "colab": {
          "base_uri": "https://localhost:8080/"
        },
        "id": "IS1TgQyLkQFo",
        "outputId": "a2d2981a-3315-4171-c8bd-ff009459f152"
      },
      "source": [
        "call()\r\n",
        "call()"
      ],
      "execution_count": 16,
      "outputs": [
        {
          "output_type": "stream",
          "text": [
            "Enter your name: Riwan\n",
            "Enter your gender. male\n",
            "Welcome Mr. Riwan\n",
            "Enter your name: Ayesha\n",
            "Enter your gender. female\n",
            "Welcome Miss. Ayesha\n"
          ],
          "name": "stdout"
        }
      ]
    },
    {
      "cell_type": "code",
      "metadata": {
        "id": "K55V-MAXlJ5z"
      },
      "source": [
        "#write a function that can ask user to enter a number,\r\n",
        "#if the entered number is even print(\"Entered even number\") else print odd number\r\n",
        "\r\n",
        "\r\n",
        "def guess_even_odd():\r\n",
        "  while(True):\r\n",
        "    num = input(\"Enter a number or write 'exit' to terminate: \")\r\n",
        "    if num == \"exit\":\r\n",
        "      break;\r\n",
        "    else:\r\n",
        "      num1 = int(num)\r\n",
        "      if num1 %2 == 0:\r\n",
        "        print(\"You entered even number\")\r\n",
        "      else:\r\n",
        "        print(\"You entered odd number\")\r\n"
      ],
      "execution_count": 49,
      "outputs": []
    },
    {
      "cell_type": "code",
      "metadata": {
        "colab": {
          "base_uri": "https://localhost:8080/"
        },
        "id": "78ioYDIEl_Cr",
        "outputId": "d19c7433-9549-4225-ebff-a7beb4680486"
      },
      "source": [
        "guess_even_odd()"
      ],
      "execution_count": 50,
      "outputs": [
        {
          "output_type": "stream",
          "text": [
            "Enter a number or write 'exit' to terminate: 2\n",
            "You entered even number\n",
            "Enter a number or write 'exit' to terminate: 3\n",
            "You entered odd number\n",
            "Enter a number or write 'exit' to terminate: exit\n"
          ],
          "name": "stdout"
        }
      ]
    },
    {
      "cell_type": "markdown",
      "metadata": {
        "id": "iYo1_kPjycyi"
      },
      "source": [
        "# Question:\r\n",
        "Write a program which will find all such numbers which are divisible by 7 but are not a multiple of 5,\r\n",
        "between 2000 and 3200 (both included).\r\n",
        "The numbers obtained should be printed in a comma-separated sequence on a single line."
      ]
    },
    {
      "cell_type": "code",
      "metadata": {
        "colab": {
          "base_uri": "https://localhost:8080/"
        },
        "id": "TPvfp7ZVmcCb",
        "outputId": "ad1d07e9-0d8b-4e16-d365-3e038b8ce615"
      },
      "source": [
        "for i in range(2000, 3201):\r\n",
        "    if (i%7==0): \r\n",
        "      if (i%5!=0):\r\n",
        "        print(i,end=\",\")"
      ],
      "execution_count": 56,
      "outputs": [
        {
          "output_type": "stream",
          "text": [
            "2002,2009,2016,2023,2037,2044,2051,2058,2072,2079,2086,2093,2107,2114,2121,2128,2142,2149,2156,2163,2177,2184,2191,2198,2212,2219,2226,2233,2247,2254,2261,2268,2282,2289,2296,2303,2317,2324,2331,2338,2352,2359,2366,2373,2387,2394,2401,2408,2422,2429,2436,2443,2457,2464,2471,2478,2492,2499,2506,2513,2527,2534,2541,2548,2562,2569,2576,2583,2597,2604,2611,2618,2632,2639,2646,2653,2667,2674,2681,2688,2702,2709,2716,2723,2737,2744,2751,2758,2772,2779,2786,2793,2807,2814,2821,2828,2842,2849,2856,2863,2877,2884,2891,2898,2912,2919,2926,2933,2947,2954,2961,2968,2982,2989,2996,3003,3017,3024,3031,3038,3052,3059,3066,3073,3087,3094,3101,3108,3122,3129,3136,3143,3157,3164,3171,3178,3192,3199,"
          ],
          "name": "stdout"
        }
      ]
    },
    {
      "cell_type": "markdown",
      "metadata": {
        "id": "0mlDjU031QoT"
      },
      "source": [
        "#Do the following exercise from provided link https://github.com/zhiwehu/Python-programming-exercises/blob/master/100%2B%20Python%20challenging%20programming%20exercises.txt"
      ]
    },
    {
      "cell_type": "code",
      "metadata": {
        "id": "p4oBKx-10VyW"
      },
      "source": [
        "adic={}"
      ],
      "execution_count": 59,
      "outputs": []
    },
    {
      "cell_type": "code",
      "metadata": {
        "id": "zxL0VheM0cnD"
      },
      "source": [
        "adic[2]= 2*2"
      ],
      "execution_count": 60,
      "outputs": []
    },
    {
      "cell_type": "code",
      "metadata": {
        "colab": {
          "base_uri": "https://localhost:8080/"
        },
        "id": "E4UCYOlC0w7y",
        "outputId": "c7b444cd-3d1e-4ba7-d69a-a197f6e9df6f"
      },
      "source": [
        "adic"
      ],
      "execution_count": 61,
      "outputs": [
        {
          "output_type": "execute_result",
          "data": {
            "text/plain": [
              "{2: 4}"
            ]
          },
          "metadata": {
            "tags": []
          },
          "execution_count": 61
        }
      ]
    },
    {
      "cell_type": "markdown",
      "metadata": {
        "id": "38NzxahT4cth"
      },
      "source": [
        "# Return"
      ]
    },
    {
      "cell_type": "code",
      "metadata": {
        "id": "BF8jOIRq4ko5"
      },
      "source": [
        "def input_your_number():\r\n",
        "  num1 = int(input(\"Enter your first number\"))\r\n",
        "  num2 = int(input(\"Enter your second number\"))\r\n",
        "  result = num1 + num2\r\n",
        "  return result"
      ],
      "execution_count": 71,
      "outputs": []
    },
    {
      "cell_type": "code",
      "metadata": {
        "colab": {
          "base_uri": "https://localhost:8080/"
        },
        "id": "2czy-Ldq5Xvr",
        "outputId": "85917526-5be5-4986-ab51-cf601c4496a1"
      },
      "source": [
        "reultant_answer = input_your_number()*10\r\n",
        "print(reultant_answer)"
      ],
      "execution_count": 73,
      "outputs": [
        {
          "output_type": "stream",
          "text": [
            "Enter your first number2\n",
            "Enter your second number7\n",
            "90\n"
          ],
          "name": "stdout"
        }
      ]
    }
  ]
}