{
  "nbformat": 4,
  "nbformat_minor": 0,
  "metadata": {
    "colab": {
      "name": "16/1/2021.ipynb",
      "provenance": [],
      "collapsed_sections": [],
      "authorship_tag": "ABX9TyNp+IAT/ubMZnE/eWc/9Sk2",
      "include_colab_link": true
    },
    "kernelspec": {
      "name": "python3",
      "display_name": "Python 3"
    }
  },
  "cells": [
    {
      "cell_type": "markdown",
      "metadata": {
        "id": "view-in-github",
        "colab_type": "text"
      },
      "source": [
        "<a href=\"https://colab.research.google.com/github/rizwanmukati03/Saylani-AI-and-DS-Course/blob/main/16_1_2021.ipynb\" target=\"_parent\"><img src=\"https://colab.research.google.com/assets/colab-badge.svg\" alt=\"Open In Colab\"/></a>"
      ]
    },
    {
      "cell_type": "markdown",
      "metadata": {
        "id": "ET_E9TDtgwnr"
      },
      "source": [
        "# For loop"
      ]
    },
    {
      "cell_type": "code",
      "metadata": {
        "id": "p7C_XbbIgeLE"
      },
      "source": [
        "import math "
      ],
      "execution_count": 1,
      "outputs": []
    },
    {
      "cell_type": "code",
      "metadata": {
        "colab": {
          "base_uri": "https://localhost:8080/"
        },
        "id": "UiizKVshhRQa",
        "outputId": "d87f70a2-9376-498f-8f2d-1dc653fa76a0"
      },
      "source": [
        "math.cos(90) #method calling of class"
      ],
      "execution_count": 4,
      "outputs": [
        {
          "output_type": "execute_result",
          "data": {
            "text/plain": [
              "-0.4480736161291701"
            ]
          },
          "metadata": {
            "tags": []
          },
          "execution_count": 4
        }
      ]
    },
    {
      "cell_type": "code",
      "metadata": {
        "colab": {
          "base_uri": "https://localhost:8080/"
        },
        "id": "FIGlpGmhhZRx",
        "outputId": "1bb4692a-1487-4408-d00f-3904af8886cf"
      },
      "source": [
        "math.sin(90)"
      ],
      "execution_count": 3,
      "outputs": [
        {
          "output_type": "execute_result",
          "data": {
            "text/plain": [
              "0.8939966636005579"
            ]
          },
          "metadata": {
            "tags": []
          },
          "execution_count": 3
        }
      ]
    },
    {
      "cell_type": "code",
      "metadata": {
        "id": "FUpB-S1bhgHg"
      },
      "source": [
        "def call():\r\n",
        "  name = input(\"Enter your name: \")\r\n",
        "  print(\"Welcome Mr.\", name )\r\n"
      ],
      "execution_count": 11,
      "outputs": []
    },
    {
      "cell_type": "code",
      "metadata": {
        "colab": {
          "base_uri": "https://localhost:8080/"
        },
        "id": "cqq19rc0iXVz",
        "outputId": "8d39e6b9-cc3d-4110-b034-1e27bd854813"
      },
      "source": [
        "# function calling\r\n",
        "call()"
      ],
      "execution_count": 12,
      "outputs": [
        {
          "output_type": "stream",
          "text": [
            "Enter your name: Rizwan\n",
            "Welcome Mr. Rizwan\n"
          ],
          "name": "stdout"
        }
      ]
    },
    {
      "cell_type": "code",
      "metadata": {
        "id": "vZJROQeMjfvI"
      },
      "source": [
        "def call():\r\n",
        "  name = input(\"Enter your name: \")\r\n",
        "  gender = input(\"Enter your gender. \").lower()\r\n",
        "  if gender == \"male\":\r\n",
        "    print(\"Welcome Mr.\", name )\r\n",
        "  else:\r\n",
        "    print(\"Welcome Miss.\", name )\r\n"
      ],
      "execution_count": 14,
      "outputs": []
    },
    {
      "cell_type": "code",
      "metadata": {
        "colab": {
          "base_uri": "https://localhost:8080/"
        },
        "id": "IS1TgQyLkQFo",
        "outputId": "a2d2981a-3315-4171-c8bd-ff009459f152"
      },
      "source": [
        "call()\r\n",
        "call()"
      ],
      "execution_count": 16,
      "outputs": [
        {
          "output_type": "stream",
          "text": [
            "Enter your name: Riwan\n",
            "Enter your gender. male\n",
            "Welcome Mr. Riwan\n",
            "Enter your name: Ayesha\n",
            "Enter your gender. female\n",
            "Welcome Miss. Ayesha\n"
          ],
          "name": "stdout"
        }
      ]
    },
    {
      "cell_type": "code",
      "metadata": {
        "id": "K55V-MAXlJ5z"
      },
      "source": [
        "#write a function that can ask user to enter a number,\r\n",
        "#if the entered number is even print(\"Entered even number\") elde print \r\n",
        "#odd number\r\n",
        "\r\n",
        "def entered_number():\r\n",
        "  while(True):\r\n",
        "    num = input(\"enter Number or write 'exit' to terminate\")\r\n",
        "    if num == \"exit\":\r\n",
        "      break;\r\n",
        "    else:\r\n",
        "      num1 = int(num)\r\n",
        "      if num1 %2 == 0:\r\n",
        "        print(\"Entered even number\")\r\n",
        "      else:\r\n",
        "        print(\"Entered odd number\")\r\n"
      ],
      "execution_count": 38,
      "outputs": []
    },
    {
      "cell_type": "code",
      "metadata": {
        "colab": {
          "base_uri": "https://localhost:8080/"
        },
        "id": "78ioYDIEl_Cr",
        "outputId": "a6cd4096-af3e-4ca0-a7f2-c8ebb0b3a5ae"
      },
      "source": [
        "entered_number()"
      ],
      "execution_count": 39,
      "outputs": [
        {
          "output_type": "stream",
          "text": [
            "enter Number or write 'exit' to terminate2\n",
            "Entered even number\n",
            "enter Number or write 'exit' to terminate3\n",
            "Entered odd number\n",
            "enter Number or write 'exit' to terminateexit\n"
          ],
          "name": "stdout"
        }
      ]
    },
    {
      "cell_type": "code",
      "metadata": {
        "id": "TPvfp7ZVmcCb"
      },
      "source": [
        ""
      ],
      "execution_count": null,
      "outputs": []
    }
  ]
}