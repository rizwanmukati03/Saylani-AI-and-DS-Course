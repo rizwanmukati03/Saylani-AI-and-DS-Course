{
  "nbformat": 4,
  "nbformat_minor": 0,
  "metadata": {
    "colab": {
      "name": "Saylani AI  & DS class 3 .ipynb",
      "provenance": [],
      "toc_visible": true
    },
    "kernelspec": {
      "name": "python3",
      "display_name": "Python 3"
    }
  },
  "cells": [
    {
      "cell_type": "code",
      "metadata": {
        "colab": {
          "base_uri": "https://localhost:8080/"
        },
        "id": "xfHbzn_cIvPS",
        "outputId": "3d50daae-d2e9-4cbe-9f3c-0ad407aedd13"
      },
      "source": [
        "list_1=[1,4,3,2]\r\n",
        "sorted (list_1,reverse=True)\r\n"
      ],
      "execution_count": null,
      "outputs": [
        {
          "output_type": "execute_result",
          "data": {
            "text/plain": [
              "[4, 3, 2, 1]"
            ]
          },
          "metadata": {
            "tags": []
          },
          "execution_count": 6
        }
      ]
    },
    {
      "cell_type": "code",
      "metadata": {
        "colab": {
          "base_uri": "https://localhost:8080/"
        },
        "id": "R1-TYGrHJEqY",
        "outputId": "2871dc4c-381c-4907-fa60-3ab1cf07c18c"
      },
      "source": [
        "mylist= [1,2,3,4,5,6,7,8,9]\r\n",
        "mylist[4],mylist[5]"
      ],
      "execution_count": null,
      "outputs": [
        {
          "output_type": "execute_result",
          "data": {
            "text/plain": [
              "(5, 6)"
            ]
          },
          "metadata": {
            "tags": []
          },
          "execution_count": 7
        }
      ]
    },
    {
      "cell_type": "code",
      "metadata": {
        "colab": {
          "base_uri": "https://localhost:8080/"
        },
        "id": "5HkU_IGuKQO-",
        "outputId": "3991ca66-7930-4f0c-c10b-284863bb9f85"
      },
      "source": [
        "sliced = mylist[2:5]\r\n",
        "sliced \r\n"
      ],
      "execution_count": null,
      "outputs": [
        {
          "output_type": "execute_result",
          "data": {
            "text/plain": [
              "[3, 4, 5]"
            ]
          },
          "metadata": {
            "tags": []
          },
          "execution_count": 10
        }
      ]
    },
    {
      "cell_type": "code",
      "metadata": {
        "colab": {
          "base_uri": "https://localhost:8080/"
        },
        "id": "SKMaRa6gLSCL",
        "outputId": "a91c0bf7-093c-4120-a655-ce07154d0607"
      },
      "source": [
        "sum(mylist)"
      ],
      "execution_count": null,
      "outputs": [
        {
          "output_type": "execute_result",
          "data": {
            "text/plain": [
              "45"
            ]
          },
          "metadata": {
            "tags": []
          },
          "execution_count": 12
        }
      ]
    },
    {
      "cell_type": "code",
      "metadata": {
        "colab": {
          "base_uri": "https://localhost:8080/"
        },
        "id": "q05DDGr7NFIS",
        "outputId": "5a35c057-6aaa-4947-b25f-efd581aa0a8e"
      },
      "source": [
        "yourlist = [1,2,2,2,3,2,4,5,6,7,8,9,0]\r\n",
        "yourlist[0:10:2]"
      ],
      "execution_count": null,
      "outputs": [
        {
          "output_type": "execute_result",
          "data": {
            "text/plain": [
              "[1, 2, 3, 4, 6]"
            ]
          },
          "metadata": {
            "tags": []
          },
          "execution_count": 22
        }
      ]
    },
    {
      "cell_type": "markdown",
      "metadata": {
        "id": "2wersv-FPQgu"
      },
      "source": [
        ""
      ]
    },
    {
      "cell_type": "code",
      "metadata": {
        "colab": {
          "base_uri": "https://localhost:8080/"
        },
        "id": "OYFwDdpuNq2K",
        "outputId": "b7639993-3736-4713-d832-f60636320d65"
      },
      "source": [
        "yourlist.count(2)"
      ],
      "execution_count": null,
      "outputs": [
        {
          "output_type": "execute_result",
          "data": {
            "text/plain": [
              "4"
            ]
          },
          "metadata": {
            "tags": []
          },
          "execution_count": 23
        }
      ]
    },
    {
      "cell_type": "code",
      "metadata": {
        "id": "NE2PVSCmPRrs"
      },
      "source": [
        ""
      ],
      "execution_count": null,
      "outputs": []
    },
    {
      "cell_type": "code",
      "metadata": {
        "colab": {
          "base_uri": "https://localhost:8080/"
        },
        "id": "6fd7T3hcPWze",
        "outputId": "6a996425-f588-49ec-ddae-b172e9e31398"
      },
      "source": [
        "yourlist[::-1]"
      ],
      "execution_count": null,
      "outputs": [
        {
          "output_type": "execute_result",
          "data": {
            "text/plain": [
              "[0, 9, 8, 7, 6, 5, 4, 2, 3, 2, 2, 2, 1]"
            ]
          },
          "metadata": {
            "tags": []
          },
          "execution_count": 25
        }
      ]
    },
    {
      "cell_type": "code",
      "metadata": {
        "id": "oa1QJ7bkxWQF"
      },
      "source": [
        ""
      ],
      "execution_count": null,
      "outputs": []
    },
    {
      "cell_type": "markdown",
      "metadata": {
        "id": "xLqmWAzbxchm"
      },
      "source": [
        "# Loop\r\n",
        "\r\n"
      ]
    },
    {
      "cell_type": "code",
      "metadata": {
        "colab": {
          "base_uri": "https://localhost:8080/"
        },
        "id": "shudbEPMxiHi",
        "outputId": "973f4b35-7034-4ca5-812f-22ffb6759e40"
      },
      "source": [
        "for i in range(5):\r\n",
        "  print(i,\"rizwan\")\r\n"
      ],
      "execution_count": 1,
      "outputs": [
        {
          "output_type": "stream",
          "text": [
            "0 rizwan\n",
            "1 rizwan\n",
            "2 rizwan\n",
            "3 rizwan\n",
            "4 rizwan\n"
          ],
          "name": "stdout"
        }
      ]
    },
    {
      "cell_type": "code",
      "metadata": {
        "colab": {
          "base_uri": "https://localhost:8080/"
        },
        "id": "m9cRObF0xrfo",
        "outputId": "1c16a3fb-f146-4bc7-aed3-a499abdada07"
      },
      "source": [
        "for char in \"sfsffwefwefwef\":\r\n",
        "  print(char.upper(),end=\"\")\r\n",
        "  "
      ],
      "execution_count": 13,
      "outputs": [
        {
          "output_type": "stream",
          "text": [
            "SFSFFWEFWEFWEF"
          ],
          "name": "stdout"
        }
      ]
    },
    {
      "cell_type": "code",
      "metadata": {
        "colab": {
          "base_uri": "https://localhost:8080/"
        },
        "id": "DnQ3Ten6y_pM",
        "outputId": "64f5bfa5-dffe-4b19-8942-2e2ec0260c1b"
      },
      "source": [
        "for num in range(0,10,2):\r\n",
        "  print(num)"
      ],
      "execution_count": 26,
      "outputs": [
        {
          "output_type": "stream",
          "text": [
            "0\n",
            "2\n",
            "4\n",
            "6\n",
            "8\n"
          ],
          "name": "stdout"
        }
      ]
    },
    {
      "cell_type": "code",
      "metadata": {
        "colab": {
          "base_uri": "https://localhost:8080/"
        },
        "id": "SRJN3g6pzKIb",
        "outputId": "716eca23-5280-4425-ffd7-ebf2cd686c64"
      },
      "source": [
        "for num in range(10,0,-2):\r\n",
        "  print(num)"
      ],
      "execution_count": 24,
      "outputs": [
        {
          "output_type": "stream",
          "text": [
            "10\n",
            "8\n",
            "6\n",
            "4\n",
            "2\n"
          ],
          "name": "stdout"
        }
      ]
    },
    {
      "cell_type": "code",
      "metadata": {
        "colab": {
          "base_uri": "https://localhost:8080/"
        },
        "id": "bS5SgIIEzKJ1",
        "outputId": "fe22b513-5db5-4f55-e866-fff0a50190b8"
      },
      "source": [
        "#concatenate Pakistani with individual \r\n",
        "students = [\"asad\",\"ali\",\"Rizwan\"]\r\n",
        "new_list=[]\r\n",
        "for student in students:\r\n",
        "  new_list.append(student+\" Pakistani\")\r\n",
        "\r\n",
        "print(new_list)"
      ],
      "execution_count": 39,
      "outputs": [
        {
          "output_type": "stream",
          "text": [
            "['asad Pakistani', 'ali Pakistani', 'Rizwan Pakistani']\n"
          ],
          "name": "stdout"
        }
      ]
    },
    {
      "cell_type": "code",
      "metadata": {
        "colab": {
          "base_uri": "https://localhost:8080/"
        },
        "id": "DIAgmUAX3pIR",
        "outputId": "f7eed1f9-f303-4db4-9c92-c6d83c27fd6a"
      },
      "source": [
        "students = [\"asad\",\"ali\",\"Rizwan\"]\r\n",
        "new_students=[]\r\n",
        "len(students)\r\n",
        "new_list=[]\r\n",
        "for student in range(len(students)):\r\n",
        "  x=students.pop()\r\n",
        "  new_students.append(x+\" Pakistani\")\r\n",
        "new_students.reverse()  \r\n",
        "print(new_students)"
      ],
      "execution_count": 67,
      "outputs": [
        {
          "output_type": "stream",
          "text": [
            "['asad Pakistani', 'ali Pakistani', 'Rizwan Pakistani']\n"
          ],
          "name": "stdout"
        }
      ]
    },
    {
      "cell_type": "code",
      "metadata": {
        "id": "ekOV-XD-4OR-"
      },
      "source": [
        ""
      ],
      "execution_count": null,
      "outputs": []
    }
  ]
}