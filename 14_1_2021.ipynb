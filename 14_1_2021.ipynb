{
  "nbformat": 4,
  "nbformat_minor": 0,
  "metadata": {
    "colab": {
      "name": "14/1/2021.ipynb",
      "provenance": [],
      "collapsed_sections": [],
      "authorship_tag": "ABX9TyO+BNdB24+gXh3q/3FuO71m",
      "include_colab_link": true
    },
    "kernelspec": {
      "name": "python3",
      "display_name": "Python 3"
    }
  },
  "cells": [
    {
      "cell_type": "markdown",
      "metadata": {
        "id": "view-in-github",
        "colab_type": "text"
      },
      "source": [
        "<a href=\"https://colab.research.google.com/github/rizwanmukati03/Saylani-AI-and-DS-Course/blob/main/14_1_2021.ipynb\" target=\"_parent\"><img src=\"https://colab.research.google.com/assets/colab-badge.svg\" alt=\"Open In Colab\"/></a>"
      ]
    },
    {
      "cell_type": "markdown",
      "metadata": {
        "id": "1HHRH18aNxQu"
      },
      "source": [
        "# Dictionary comprehension\r\n"
      ]
    },
    {
      "cell_type": "code",
      "metadata": {
        "colab": {
          "base_uri": "https://localhost:8080/"
        },
        "id": "SNGhw_jMNtCk",
        "outputId": "08e68710-cd80-4aaa-d07c-09e981719244"
      },
      "source": [
        "#import math # if we write \"import math\" then you should write \"math.ceil()\"\r\n",
        "from math import * # another way to import library\r\n",
        "from math import floor,ceil\r\n",
        "price_in_rs = {'biryani': 150,\r\n",
        "                'Tikka':300,\r\n",
        "                'coffee':120,\r\n",
        "                'colddrink': 180}\r\n",
        "price_in_dollars = {item:ceil((price/160.54)) for item,price in price_in_rs.items()}\r\n",
        "print(price_in_dollars)"
      ],
      "execution_count": null,
      "outputs": [
        {
          "output_type": "stream",
          "text": [
            "{'biryani': 1, 'Tikka': 2, 'coffee': 1, 'colddrink': 2}\n"
          ],
          "name": "stdout"
        }
      ]
    },
    {
      "cell_type": "code",
      "metadata": {
        "colab": {
          "base_uri": "https://localhost:8080/"
        },
        "id": "eY89tDqCS3TX",
        "outputId": "fcc24a14-4b30-4404-a623-c330b0460a41"
      },
      "source": [
        "price_in_rs = {'biryani': 150,\r\n",
        "                'Tikka':300,\r\n",
        "                'coffee':120,\r\n",
        "                'colddrink': 180}\r\n",
        "price_in_dollars = {item:(price/160.54) for item,price in price_in_rs.items()}\r\n",
        "print(price_in_dollars)"
      ],
      "execution_count": null,
      "outputs": [
        {
          "output_type": "stream",
          "text": [
            "{'biryani': 0.9343465802915162, 'Tikka': 1.8686931605830324, 'coffee': 0.7474772642332129, 'colddrink': 1.1212158963498193}\n"
          ],
          "name": "stdout"
        }
      ]
    },
    {
      "cell_type": "code",
      "metadata": {
        "colab": {
          "base_uri": "https://localhost:8080/"
        },
        "id": "nf0GJhmuS_9q",
        "outputId": "22a040f1-2d9e-4192-d00a-574e6e6383f7"
      },
      "source": [
        "#if price <1 then add dollar 1 otherwise print the same price\r\n",
        "updated_price = {item:price+1  if price<1 else price for item,price in price_in_dollars.items()  }\r\n",
        "updated_price"
      ],
      "execution_count": null,
      "outputs": [
        {
          "output_type": "execute_result",
          "data": {
            "text/plain": [
              "{'Tikka': 1.8686931605830324,\n",
              " 'biryani': 1.9343465802915163,\n",
              " 'coffee': 1.747477264233213,\n",
              " 'colddrink': 1.1212158963498193}"
            ]
          },
          "metadata": {
            "tags": []
          },
          "execution_count": 13
        }
      ]
    }
  ]
}