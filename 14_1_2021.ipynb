{
  "nbformat": 4,
  "nbformat_minor": 0,
  "metadata": {
    "colab": {
      "name": "14/1/2021.ipynb",
      "provenance": [],
      "authorship_tag": "ABX9TyPXpEI5hyeF5cDZiU65YjCO",
      "include_colab_link": true
    },
    "kernelspec": {
      "name": "python3",
      "display_name": "Python 3"
    }
  },
  "cells": [
    {
      "cell_type": "markdown",
      "metadata": {
        "id": "view-in-github",
        "colab_type": "text"
      },
      "source": [
        "<a href=\"https://colab.research.google.com/github/rizwanmukati03/Saylani-AI-and-DS-Course/blob/main/14_1_2021.ipynb\" target=\"_parent\"><img src=\"https://colab.research.google.com/assets/colab-badge.svg\" alt=\"Open In Colab\"/></a>"
      ]
    },
    {
      "cell_type": "markdown",
      "metadata": {
        "id": "1HHRH18aNxQu"
      },
      "source": [
        "# Dictionary comprehension\r\n"
      ]
    },
    {
      "cell_type": "code",
      "metadata": {
        "colab": {
          "base_uri": "https://localhost:8080/"
        },
        "id": "SNGhw_jMNtCk",
        "outputId": "08e68710-cd80-4aaa-d07c-09e981719244"
      },
      "source": [
        "#import math # if we write \"import math\" then you should write \"math.ceil()\"\r\n",
        "from math import * # another way to import library\r\n",
        "from math import floor,ceil\r\n",
        "price_in_rs = {'biryani': 150,\r\n",
        "                'Tikka':300,\r\n",
        "                'coffee':120,\r\n",
        "                'colddrink': 180}\r\n",
        "price_in_dollars = {item:ceil((price/160.54)) for item,price in price_in_rs.items()}\r\n",
        "print(price_in_dollars)"
      ],
      "execution_count": 7,
      "outputs": [
        {
          "output_type": "stream",
          "text": [
            "{'biryani': 1, 'Tikka': 2, 'coffee': 1, 'colddrink': 2}\n"
          ],
          "name": "stdout"
        }
      ]
    }
  ]
}