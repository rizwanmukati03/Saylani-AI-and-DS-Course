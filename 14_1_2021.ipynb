{
  "nbformat": 4,
  "nbformat_minor": 0,
  "metadata": {
    "colab": {
      "name": "14/1/2021.ipynb",
      "provenance": [],
      "collapsed_sections": [],
      "toc_visible": true,
      "authorship_tag": "ABX9TyP9JvrzYeZ/2wQ8tV/SpDgW",
      "include_colab_link": true
    },
    "kernelspec": {
      "name": "python3",
      "display_name": "Python 3"
    }
  },
  "cells": [
    {
      "cell_type": "markdown",
      "metadata": {
        "id": "view-in-github",
        "colab_type": "text"
      },
      "source": [
        "<a href=\"https://colab.research.google.com/github/rizwanmukati03/Saylani-AI-and-DS-Course/blob/main/14_1_2021.ipynb\" target=\"_parent\"><img src=\"https://colab.research.google.com/assets/colab-badge.svg\" alt=\"Open In Colab\"/></a>"
      ]
    },
    {
      "cell_type": "code",
      "metadata": {
        "colab": {
          "base_uri": "https://localhost:8080/"
        },
        "id": "SNGhw_jMNtCk",
        "outputId": "08e68710-cd80-4aaa-d07c-09e981719244"
      },
      "source": [
        "#import math # if we write \"import math\" then you should write \"math.ceil()\"\r\n",
        "from math import * # another way to import library\r\n",
        "from math import floor,ceil\r\n",
        "price_in_rs = {'biryani': 150,\r\n",
        "                'Tikka':300,\r\n",
        "                'coffee':120,\r\n",
        "                'colddrink': 180}\r\n",
        "price_in_dollars = {item:ceil((price/160.54)) for item,price in price_in_rs.items()}\r\n",
        "print(price_in_dollars)"
      ],
      "execution_count": null,
      "outputs": [
        {
          "output_type": "stream",
          "text": [
            "{'biryani': 1, 'Tikka': 2, 'coffee': 1, 'colddrink': 2}\n"
          ],
          "name": "stdout"
        }
      ]
    },
    {
      "cell_type": "code",
      "metadata": {
        "id": "Ta54Kn7pev9Y"
      },
      "source": [
        ""
      ],
      "execution_count": null,
      "outputs": []
    },
    {
      "cell_type": "markdown",
      "metadata": {
        "id": "1HHRH18aNxQu"
      },
      "source": [
        "# Dictionary comprehension\r\n"
      ]
    },
    {
      "cell_type": "code",
      "metadata": {
        "colab": {
          "base_uri": "https://localhost:8080/"
        },
        "id": "eY89tDqCS3TX",
        "outputId": "fcc24a14-4b30-4404-a623-c330b0460a41"
      },
      "source": [
        "price_in_rs = {'biryani': 150,\r\n",
        "                'Tikka':300,\r\n",
        "                'coffee':120,\r\n",
        "                'colddrink': 180}\r\n",
        "price_in_dollars = {item:(price/160.54) for item,price in price_in_rs.items()}\r\n",
        "print(price_in_dollars)"
      ],
      "execution_count": null,
      "outputs": [
        {
          "output_type": "stream",
          "text": [
            "{'biryani': 0.9343465802915162, 'Tikka': 1.8686931605830324, 'coffee': 0.7474772642332129, 'colddrink': 1.1212158963498193}\n"
          ],
          "name": "stdout"
        }
      ]
    },
    {
      "cell_type": "code",
      "metadata": {
        "colab": {
          "base_uri": "https://localhost:8080/"
        },
        "id": "nf0GJhmuS_9q",
        "outputId": "5765168b-2c7a-40ec-e90d-32a298eb93bb"
      },
      "source": [
        "#if price <1 then add dollar 1 otherwise print the same price\r\n",
        "updated_price = {item:price+1  if price<1 else price for item,price in price_in_dollars.items()  }\r\n",
        "updated_price"
      ],
      "execution_count": null,
      "outputs": [
        {
          "output_type": "execute_result",
          "data": {
            "text/plain": [
              "{'Tikka': 1.8686931605830324,\n",
              " 'biryani': 1.9343465802915163,\n",
              " 'coffee': 1.747477264233213,\n",
              " 'colddrink': 1.1212158963498193}"
            ]
          },
          "metadata": {
            "tags": []
          },
          "execution_count": 15
        }
      ]
    },
    {
      "cell_type": "code",
      "metadata": {
        "colab": {
          "base_uri": "https://localhost:8080/"
        },
        "id": "-zI89xREZkZf",
        "outputId": "7ef7fc2c-d6a1-4585-a2b5-1c185a2250b3"
      },
      "source": [
        "#Python crash course 6-5\r\n",
        "river_country = {\"nile\":\"Egypt\", \"Ganges\":\"Bangladesh\",\"Danube\":\"Germany\"}\r\n",
        "\r\n",
        "for river,country  in river_country.items():\r\n",
        "  print(\"River: \" + river+ \" & \"+\"country: \"+country)  \r\n"
      ],
      "execution_count": null,
      "outputs": [
        {
          "output_type": "stream",
          "text": [
            "River: nile & country: Egypt\n",
            "River: Ganges & country: Bangladesh\n",
            "River: Danube & country: Germany\n"
          ],
          "name": "stdout"
        }
      ]
    },
    {
      "cell_type": "code",
      "metadata": {
        "colab": {
          "base_uri": "https://localhost:8080/"
        },
        "id": "dAOyOr8ib_z1",
        "outputId": "c9ff5b7d-b415-411c-cbb8-b016ff0cd8c1"
      },
      "source": [
        "for river in river_country.keys():\r\n",
        "  print(\"River: \"+ river)"
      ],
      "execution_count": null,
      "outputs": [
        {
          "output_type": "stream",
          "text": [
            "River: nile\n",
            "River: Ganges\n",
            "River: Danube\n"
          ],
          "name": "stdout"
        }
      ]
    },
    {
      "cell_type": "code",
      "metadata": {
        "colab": {
          "base_uri": "https://localhost:8080/"
        },
        "id": "u7n7ZDjYcPYd",
        "outputId": "e9744ede-ec26-47d3-bfb4-58a1ce1168f0"
      },
      "source": [
        "for country in river_country.values():\r\n",
        "  print(\"country: \"+ country)"
      ],
      "execution_count": null,
      "outputs": [
        {
          "output_type": "stream",
          "text": [
            "country: Egypt\n",
            "country: Bangladesh\n",
            "country: Germany\n"
          ],
          "name": "stdout"
        }
      ]
    },
    {
      "cell_type": "markdown",
      "metadata": {
        "id": "QkYosNrWdyAb"
      },
      "source": [
        "# List of Lists"
      ]
    },
    {
      "cell_type": "code",
      "metadata": {
        "id": "E0RWvo3odg7S"
      },
      "source": [
        "listoflists= [[11,22,33,44],\r\n",
        "              [55,66,77,88],\r\n",
        "              [1,2,3],\r\n",
        "              [\"a\",\"b\"]\r\n",
        "             ] "
      ],
      "execution_count": null,
      "outputs": []
    },
    {
      "cell_type": "code",
      "metadata": {
        "colab": {
          "base_uri": "https://localhost:8080/",
          "height": 35
        },
        "id": "kjknE8YyeMW3",
        "outputId": "be3918a4-0a05-452d-b2c0-b10ee2110cd8"
      },
      "source": [
        "listoflists[-1][-1]"
      ],
      "execution_count": null,
      "outputs": [
        {
          "output_type": "execute_result",
          "data": {
            "application/vnd.google.colaboratory.intrinsic+json": {
              "type": "string"
            },
            "text/plain": [
              "'b'"
            ]
          },
          "metadata": {
            "tags": []
          },
          "execution_count": 32
        }
      ]
    },
    {
      "cell_type": "markdown",
      "metadata": {
        "id": "9q8uqMUJezPb"
      },
      "source": [
        "# ListofDictionaries"
      ]
    },
    {
      "cell_type": "code",
      "metadata": {
        "colab": {
          "base_uri": "https://localhost:8080/"
        },
        "id": "lrM_hpoUe5tm",
        "outputId": "42fbd098-0362-4055-bf42-18846abc563e"
      },
      "source": [
        "listofdict = [updated_price,price_in_dollars,price_in_rs]\r\n",
        "listofdict"
      ],
      "execution_count": 34,
      "outputs": [
        {
          "output_type": "execute_result",
          "data": {
            "text/plain": [
              "[{'Tikka': 1.8686931605830324,\n",
              "  'biryani': 1.9343465802915163,\n",
              "  'coffee': 1.747477264233213,\n",
              "  'colddrink': 1.1212158963498193},\n",
              " {'Tikka': 1.8686931605830324,\n",
              "  'biryani': 0.9343465802915162,\n",
              "  'coffee': 0.7474772642332129,\n",
              "  'colddrink': 1.1212158963498193},\n",
              " {'Tikka': 300, 'biryani': 150, 'coffee': 120, 'colddrink': 180}]"
            ]
          },
          "metadata": {
            "tags": []
          },
          "execution_count": 34
        }
      ]
    },
    {
      "cell_type": "code",
      "metadata": {
        "colab": {
          "base_uri": "https://localhost:8080/"
        },
        "id": "YEdxqcJUfmKM",
        "outputId": "d186269f-4dcb-4276-a794-9c5fe46ff410"
      },
      "source": [
        "listofdict[0]['Tikka']"
      ],
      "execution_count": 36,
      "outputs": [
        {
          "output_type": "execute_result",
          "data": {
            "text/plain": [
              "1.8686931605830324"
            ]
          },
          "metadata": {
            "tags": []
          },
          "execution_count": 36
        }
      ]
    },
    {
      "cell_type": "markdown",
      "metadata": {
        "id": "rVtVMVSUggm_"
      },
      "source": [
        "# Dictionaryofdictionary"
      ]
    },
    {
      "cell_type": "code",
      "metadata": {
        "colab": {
          "base_uri": "https://localhost:8080/"
        },
        "id": "96XipKsCgm45",
        "outputId": "21715ea1-a042-4361-859e-bb6ad4d6b6d7"
      },
      "source": [
        "dicofdic={'saylani':\r\n",
        "                  {'smit':['web','ds','ccna','ai'], \r\n",
        "                   'health':['opd', 'ot',]\r\n",
        "                  },\r\n",
        "           'University':\r\n",
        "                  {'CS':['1st','2nd','3rd','4th'],\r\n",
        "                  'admin':['fees', 'timetable','exams'] \r\n",
        "                   }\r\n",
        "          }\r\n",
        "dicofdic"
      ],
      "execution_count": 50,
      "outputs": [
        {
          "output_type": "execute_result",
          "data": {
            "text/plain": [
              "{'University': {'CS': ['1st', '2nd', '3rd', '4th'],\n",
              "  'admin': ['fees', 'timetable', 'exams']},\n",
              " 'saylani': {'health': ['opd', 'ot'], 'smit': ['web', 'ds', 'ccna', 'ai']}}"
            ]
          },
          "metadata": {
            "tags": []
          },
          "execution_count": 50
        }
      ]
    },
    {
      "cell_type": "code",
      "metadata": {
        "colab": {
          "base_uri": "https://localhost:8080/"
        },
        "id": "T2_SdSGbk7fi",
        "outputId": "c6b38a17-0e1d-40dc-a84f-12554950877d"
      },
      "source": [
        "for pk,pv in dicofdic.items():\r\n",
        "  if pk == \"University\":\r\n",
        "    for uk,uv in dicofdic[pk].items():\r\n",
        "      if uk == 'admin':\r\n",
        "        print(\"exams\" in uv)\r\n"
      ],
      "execution_count": 51,
      "outputs": [
        {
          "output_type": "stream",
          "text": [
            "True\n"
          ],
          "name": "stdout"
        }
      ]
    },
    {
      "cell_type": "code",
      "metadata": {
        "colab": {
          "base_uri": "https://localhost:8080/"
        },
        "id": "kjImFDikoDLu",
        "outputId": "a8b282e9-ac90-4310-9594-835897e9e7d2"
      },
      "source": [
        "for v in dicofdic['University']['admin']:\r\n",
        "  if v == \"exams\":\r\n",
        "    print('True')"
      ],
      "execution_count": 52,
      "outputs": [
        {
          "output_type": "stream",
          "text": [
            "True\n"
          ],
          "name": "stdout"
        }
      ]
    }
  ]
}