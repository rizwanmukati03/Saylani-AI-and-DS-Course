{
 "cells": [
  {
   "cell_type": "code",
   "execution_count": 2,
   "metadata": {},
   "outputs": [],
   "source": [
    "#8-1\n",
    "def display_message():\n",
    "    print('We are learning about functions in chapter 8')"
   ]
  },
  {
   "cell_type": "code",
   "execution_count": 3,
   "metadata": {},
   "outputs": [
    {
     "name": "stdout",
     "output_type": "stream",
     "text": [
      "We are learning about functions in chapter 8\n"
     ]
    }
   ],
   "source": [
    "display_message()"
   ]
  },
  {
   "cell_type": "code",
   "execution_count": 4,
   "metadata": {},
   "outputs": [],
   "source": [
    "#8-2\n",
    "def favorite_book(title):\n",
    "    print(f\"One of my favorite books is {title} in Wonderland\")"
   ]
  },
  {
   "cell_type": "code",
   "execution_count": 5,
   "metadata": {},
   "outputs": [
    {
     "name": "stdout",
     "output_type": "stream",
     "text": [
      "One of my favorite books is Alice in Wonderland\n"
     ]
    }
   ],
   "source": [
    "favorite_book(\"Alice\")"
   ]
  },
  {
   "cell_type": "code",
   "execution_count": 16,
   "metadata": {},
   "outputs": [],
   "source": [
    "#8-3\n",
    "def make_shirt(size,message):\n",
    "    print(f\"{size} size shirt with following message printed: {message}\")\n"
   ]
  },
  {
   "cell_type": "code",
   "execution_count": 17,
   "metadata": {},
   "outputs": [
    {
     "name": "stdout",
     "output_type": "stream",
     "text": [
      "medium size shirt with following message printed: Keep calm carry on\n"
     ]
    }
   ],
   "source": [
    "make_shirt(size = 'medium',message = \"Keep calm carry on\")"
   ]
  },
  {
   "cell_type": "code",
   "execution_count": 19,
   "metadata": {},
   "outputs": [
    {
     "name": "stdout",
     "output_type": "stream",
     "text": [
      "medium size shirt with following message printed: Keep calm carry on\n"
     ]
    }
   ],
   "source": [
    "make_shirt(message = \"Keep calm carry on\",size = 'medium')"
   ]
  },
  {
   "cell_type": "code",
   "execution_count": 25,
   "metadata": {},
   "outputs": [],
   "source": [
    "#8-4\n",
    "def make_shirt(size,message = 'I Love Python'):\n",
    "    if size.lower() == 'large' or size.lower() == 'medium':\n",
    "        print(message)\n",
    "    else:\n",
    "        print('size is small')"
   ]
  },
  {
   "cell_type": "code",
   "execution_count": 26,
   "metadata": {},
   "outputs": [
    {
     "name": "stdout",
     "output_type": "stream",
     "text": [
      "I Love Python\n"
     ]
    }
   ],
   "source": [
    "make_shirt('Large')"
   ]
  },
  {
   "cell_type": "code",
   "execution_count": 27,
   "metadata": {},
   "outputs": [
    {
     "name": "stdout",
     "output_type": "stream",
     "text": [
      "I Love Python\n"
     ]
    }
   ],
   "source": [
    "make_shirt('medium')"
   ]
  },
  {
   "cell_type": "code",
   "execution_count": 29,
   "metadata": {},
   "outputs": [
    {
     "name": "stdout",
     "output_type": "stream",
     "text": [
      "size is small\n"
     ]
    }
   ],
   "source": [
    "make_shirt('sMall')"
   ]
  },
  {
   "cell_type": "code",
   "execution_count": 61,
   "metadata": {},
   "outputs": [],
   "source": [
    "#8-5\n",
    "def describe_city(city,country = 'Iceland'):\n",
    "    print(f\"{city} is in {country}\") "
   ]
  },
  {
   "cell_type": "code",
   "execution_count": 62,
   "metadata": {},
   "outputs": [
    {
     "name": "stdout",
     "output_type": "stream",
     "text": [
      "Reykjavik is in Iceland\n"
     ]
    }
   ],
   "source": [
    "describe_city('Reykjavik')"
   ]
  },
  {
   "cell_type": "code",
   "execution_count": 63,
   "metadata": {},
   "outputs": [],
   "source": [
    "def describe_city(city,country = 'Pakistan'):\n",
    "    print(f\"{city} is in {country}\")"
   ]
  },
  {
   "cell_type": "code",
   "execution_count": 64,
   "metadata": {},
   "outputs": [
    {
     "name": "stdout",
     "output_type": "stream",
     "text": [
      "Karachi is in Pakistan\n"
     ]
    }
   ],
   "source": [
    "describe_city('Karachi')"
   ]
  },
  {
   "cell_type": "code",
   "execution_count": 65,
   "metadata": {},
   "outputs": [
    {
     "name": "stdout",
     "output_type": "stream",
     "text": [
      "Islamabad is in Pakistan\n"
     ]
    }
   ],
   "source": [
    "describe_city('Islamabad')"
   ]
  },
  {
   "cell_type": "code",
   "execution_count": 66,
   "metadata": {},
   "outputs": [],
   "source": [
    "def describe_city(city,country):\n",
    "    print(f\"{city} is in {country}\")"
   ]
  },
  {
   "cell_type": "code",
   "execution_count": 67,
   "metadata": {},
   "outputs": [
    {
     "name": "stdout",
     "output_type": "stream",
     "text": [
      "Newyork is in USA\n"
     ]
    }
   ],
   "source": [
    "describe_city('Newyork','USA')"
   ]
  },
  {
   "cell_type": "code",
   "execution_count": 82,
   "metadata": {},
   "outputs": [],
   "source": [
    "#8-6\n",
    "def city_country(city,country):\n",
    "    print(f'\"{city}, {country}\"')"
   ]
  },
  {
   "cell_type": "code",
   "execution_count": 83,
   "metadata": {},
   "outputs": [
    {
     "name": "stdout",
     "output_type": "stream",
     "text": [
      "\"Santiago, Chile\"\n"
     ]
    }
   ],
   "source": [
    "city_country('Santiago','Chile')"
   ]
  },
  {
   "cell_type": "code",
   "execution_count": 84,
   "metadata": {},
   "outputs": [],
   "source": [
    "def city_country(city,country):\n",
    "    return (f'\"{city}, {country}\"')"
   ]
  },
  {
   "cell_type": "code",
   "execution_count": 85,
   "metadata": {},
   "outputs": [
    {
     "name": "stdout",
     "output_type": "stream",
     "text": [
      "\"Karachi, Pakistan\"\n",
      "\"Paris, France\"\n",
      "\"Istanbul, Turkey\"\n"
     ]
    }
   ],
   "source": [
    "print(city_country('Karachi','Pakistan'))\n",
    "print(city_country('Paris','France'))\n",
    "print(city_country('Istanbul','Turkey'))"
   ]
  },
  {
   "cell_type": "code",
   "execution_count": 103,
   "metadata": {},
   "outputs": [],
   "source": [
    "def make_album(artist_name,album_title):\n",
    "    music_album = {'Artist Name':artist_name,'Album title':album_title}\n",
    "    return music_album"
   ]
  },
  {
   "cell_type": "code",
   "execution_count": 104,
   "metadata": {},
   "outputs": [
    {
     "name": "stdout",
     "output_type": "stream",
     "text": [
      "{'Artist Name': 'Atif', 'Album title': 'Jal'}\n",
      "{'Artist Name': 'a1', 'Album title': 'b1'}\n",
      "{'Artist Name': 'a2', 'Album title': 'b2'}\n"
     ]
    }
   ],
   "source": [
    "print(make_album('Atif','Jal'))\n",
    "print(make_album('a1','b1'))\n",
    "print(make_album('a2','b2'))"
   ]
  },
  {
   "cell_type": "code",
   "execution_count": 105,
   "metadata": {},
   "outputs": [],
   "source": [
    "#8-7\n",
    "def make_album(artist_name,album_title,no_of_songs = None):\n",
    "    music_album = {}\n",
    "    if no_of_songs != None:\n",
    "        music_album = {'Artist Name: ':artist_name,'Album title: ':album_title,'No of songs: ':no_of_songs}\n",
    "    else:\n",
    "        music_album = {'Artist Name':artist_name,'Album title':album_title}\n",
    "    return music_album"
   ]
  },
  {
   "cell_type": "code",
   "execution_count": 106,
   "metadata": {},
   "outputs": [
    {
     "name": "stdout",
     "output_type": "stream",
     "text": [
      "{'Artist Name': 'Atif', 'Album title': 'Jal'}\n",
      "{'Artist Name: ': 'a1', 'Album title: ': 'b1', 'No of songs: ': 10}\n",
      "{'Artist Name': 'a2', 'Album title': 'b2'}\n"
     ]
    }
   ],
   "source": [
    "print(make_album('Atif','Jal'))\n",
    "print(make_album('a1','b1',10))\n",
    "print(make_album('a2','b2'))"
   ]
  },
  {
   "cell_type": "code",
   "execution_count": 111,
   "metadata": {},
   "outputs": [
    {
     "name": "stdout",
     "output_type": "stream",
     "text": [
      "Enter Artist name or q to quit \n",
      "Atif\n",
      "Enter Album title or q to quit \n",
      "Jal\n",
      "{'Artist Name': 'Atif', 'Album title': 'Jal'}\n",
      "Enter Artist name or q to quit \n",
      "Chester\n",
      "Enter Album title or q to quit \n",
      "Numb\n",
      "{'Artist Name': 'Chester', 'Album title': 'Numb'}\n",
      "Enter Artist name or q to quit \n",
      "q\n"
     ]
    }
   ],
   "source": [
    "#8-8\n",
    "while True:\n",
    "    artist_name = input(\"Enter Artist name or q to quit \\n\")\n",
    "    if artist_name == 'q':\n",
    "        break\n",
    "    album_title = input(\"Enter Album title or q to quit \\n\")\n",
    "    if album_title == 'q':\n",
    "        break\n",
    "    print(make_album(artist_name = artist_name,album_title = album_title))"
   ]
  },
  {
   "cell_type": "code",
   "execution_count": 4,
   "metadata": {},
   "outputs": [],
   "source": [
    "#8-9\n",
    "def show_messages(names):\n",
    "    for name in names:\n",
    "        print(f\"{name}\")"
   ]
  },
  {
   "cell_type": "code",
   "execution_count": 6,
   "metadata": {},
   "outputs": [
    {
     "name": "stdout",
     "output_type": "stream",
     "text": [
      "hannah\n",
      "ty\n",
      "margot\n"
     ]
    }
   ],
   "source": [
    "usernames = ['hannah', 'ty', 'margot']\n",
    "show_messages(usernames)"
   ]
  },
  {
   "cell_type": "code",
   "execution_count": 8,
   "metadata": {},
   "outputs": [],
   "source": [
    "#8-10\n",
    "def send_messages(names):\n",
    "    sent_messages = []\n",
    "    for name in names:\n",
    "        sent_messages.append(name)\n",
    "        print(f\"{name}\")  \n",
    "    print(sent_messages)"
   ]
  },
  {
   "cell_type": "code",
   "execution_count": 9,
   "metadata": {},
   "outputs": [
    {
     "name": "stdout",
     "output_type": "stream",
     "text": [
      "hannah\n",
      "ty\n",
      "margot\n",
      "['hannah', 'ty', 'margot']\n"
     ]
    }
   ],
   "source": [
    "usernames = ['hannah', 'ty', 'margot']\n",
    "send_messages(usernames)"
   ]
  },
  {
   "cell_type": "markdown",
   "metadata": {},
   "source": [
    "8-11. Archived Messages: Start with your work from Exercise 8-10. Call the\n",
    "function send_messages() with a copy of the list of messages. After calling the\n",
    "function, print both of your lists to show that the original list has retained its\n",
    "messages."
   ]
  },
  {
   "cell_type": "code",
   "execution_count": 11,
   "metadata": {},
   "outputs": [
    {
     "name": "stdout",
     "output_type": "stream",
     "text": [
      "\n",
      "I'll make you a great sandwich:\n",
      "  ...adding roast beef to your sandwich.\n",
      "  ...adding cheddar cheese to your sandwich.\n",
      "  ...adding lettuce to your sandwich.\n",
      "  ...adding honey dijon to your sandwich.\n",
      "Your sandwich is ready!\n",
      "\n",
      "I'll make you a great sandwich:\n",
      "  ...adding turkey to your sandwich.\n",
      "  ...adding apple slices to your sandwich.\n",
      "  ...adding honey mustard to your sandwich.\n",
      "Your sandwich is ready!\n",
      "\n",
      "I'll make you a great sandwich:\n",
      "  ...adding peanut butter to your sandwich.\n",
      "  ...adding strawberry jam to your sandwich.\n",
      "Your sandwich is ready!\n"
     ]
    }
   ],
   "source": [
    "#8-12\n",
    "def make_sandwich(*items):\n",
    "    \"\"\"Make a sandwich with the given items.\"\"\"\n",
    "    print(\"\\nI'll make you a great sandwich:\")\n",
    "    for item in items:\n",
    "        print(\"  ...adding \" + item + \" to your sandwich.\")\n",
    "    print(\"Your sandwich is ready!\")\n",
    "\n",
    "make_sandwich('roast beef', 'cheddar cheese', 'lettuce', 'honey dijon')\n",
    "make_sandwich('turkey', 'apple slices', 'honey mustard')\n",
    "make_sandwich('peanut butter', 'strawberry jam')\n"
   ]
  },
  {
   "cell_type": "code",
   "execution_count": 1,
   "metadata": {},
   "outputs": [
    {
     "name": "stdout",
     "output_type": "stream",
     "text": [
      "{'first_name': 'john', 'last_name': 'doe', 'age': 33, 'occupation': 'programmer'}\n"
     ]
    }
   ],
   "source": [
    "#8-13\n",
    "def build_profile(first, last, **user_info):\n",
    "    profile = {} \n",
    "    profile['first_name'] = first\n",
    "    profile['last_name'] = last\n",
    "    for key, value in user_info.items():\n",
    "        profile[key] = value\n",
    "    return profile\n",
    "\n",
    "user_profile = build_profile('john','doe',age=33,occupation='programmer')\n",
    "print(user_profile)"
   ]
  },
  {
   "cell_type": "code",
   "execution_count": 12,
   "metadata": {},
   "outputs": [
    {
     "name": "stdout",
     "output_type": "stream",
     "text": [
      "{'manufacturer': 'Subaru', 'model': 'Outback', 'color': 'blue', 'tow_package': True}\n",
      "{'manufacturer': 'Honda', 'model': 'Accord', 'year': 1991, 'color': 'white', 'headlights': 'popup'}\n"
     ]
    }
   ],
   "source": [
    "#8-14\n",
    "def make_car(manufacturer, model, **options):\n",
    "    \"\"\"Make a dictionary representing a car.\"\"\"\n",
    "    car_dict = {\n",
    "        'manufacturer': manufacturer.title(),\n",
    "        'model': model.title(),\n",
    "        }\n",
    "    for option, value in options.items():\n",
    "        car_dict[option] = value\n",
    "\n",
    "    return car_dict\n",
    "\n",
    "my_outback = make_car('subaru', 'outback', color='blue', tow_package=True)\n",
    "print(my_outback)\n",
    "\n",
    "my_accord = make_car('honda', 'accord', year=1991, color='white',\n",
    "        headlights='popup')\n",
    "print(my_accord)\n"
   ]
  },
  {
   "cell_type": "code",
   "execution_count": 14,
   "metadata": {},
   "outputs": [
    {
     "name": "stdout",
     "output_type": "stream",
     "text": [
      "Printing model: dodecahedron\n",
      "Printing model: robot pendant\n",
      "Printing model: iphone case\n",
      "\n",
      "The following models have been printed:\n",
      "dodecahedron\n",
      "robot pendant\n",
      "iphone case\n"
     ]
    }
   ],
   "source": [
    "#8-15\n",
    "import printing_functions as pf\n",
    "\n",
    "unprinted_designs = ['iphone case', 'robot pendant', 'dodecahedron']\n",
    "completed_models = []\n",
    "\n",
    "pf.print_models(unprinted_designs, completed_models)\n",
    "pf.show_completed_models(completed_models)\n"
   ]
  },
  {
   "cell_type": "code",
   "execution_count": 2,
   "metadata": {},
   "outputs": [
    {
     "name": "stdout",
     "output_type": "stream",
     "text": [
      "{'manufacturer': 'subaru', 'model_name': 'outback', 'color': 'blue', 'tow_package': True}\n",
      "{'manufacturer': 'subaru', 'model_name': 'outback', 'color': 'blue', 'tow_package': True}\n",
      "{'manufacturer': 'subaru', 'model_name': 'outback', 'color': 'blue', 'tow_package': True}\n",
      "{'manufacturer': 'subaru', 'model_name': 'outback', 'color': 'blue', 'tow_package': True}\n",
      "{'manufacturer': 'subaru', 'model_name': 'outback', 'color': 'blue', 'tow_package': True}\n"
     ]
    }
   ],
   "source": [
    "#8-16\n",
    "import car\n",
    "print(car.build_car('subaru','outback',color='blue', tow_package=True))\n",
    "\n",
    "from car import build_car\n",
    "print(build_car('subaru','outback',color='blue', tow_package=True))\n",
    "\n",
    "from car import build_car as bc\n",
    "print(bc('subaru','outback',color='blue', tow_package=True))\n",
    "\n",
    "import car as c\n",
    "print(c.build_car('subaru','outback',color='blue', tow_package=True))\n",
    "\n",
    "from car import *\n",
    "print(build_car('subaru','outback',color='blue', tow_package=True))"
   ]
  },
  {
   "cell_type": "code",
   "execution_count": null,
   "metadata": {},
   "outputs": [],
   "source": []
  }
 ],
 "metadata": {
  "kernelspec": {
   "display_name": "Python 3",
   "language": "python",
   "name": "python3"
  },
  "language_info": {
   "codemirror_mode": {
    "name": "ipython",
    "version": 3
   },
   "file_extension": ".py",
   "mimetype": "text/x-python",
   "name": "python",
   "nbconvert_exporter": "python",
   "pygments_lexer": "ipython3",
   "version": "3.7.3"
  }
 },
 "nbformat": 4,
 "nbformat_minor": 4
}
