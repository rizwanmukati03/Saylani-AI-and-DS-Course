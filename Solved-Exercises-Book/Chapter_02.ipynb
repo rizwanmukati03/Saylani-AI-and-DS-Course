{
 "cells": [
  {
   "cell_type": "markdown",
   "metadata": {},
   "source": [
    "# Chapter 2 Exercises"
   ]
  },
  {
   "cell_type": "code",
   "execution_count": 1,
   "metadata": {},
   "outputs": [
    {
     "name": "stdout",
     "output_type": "stream",
     "text": [
      "This is a message\n"
     ]
    }
   ],
   "source": [
    "# 2-1. Simple Message\n",
    "message = \"This is a message\"\n",
    "print(message)"
   ]
  },
  {
   "cell_type": "code",
   "execution_count": 5,
   "metadata": {},
   "outputs": [
    {
     "name": "stdout",
     "output_type": "stream",
     "text": [
      "This is the first message\n",
      "This is the sCeond message\n"
     ]
    }
   ],
   "source": [
    "# 2-2. Simple Message\n",
    "message_again = \"This is the first message\"\n",
    "print(message_again)\n",
    "\n",
    "message_again = \"This is the sCeond message\"\n",
    "print(message_again)"
   ]
  },
  {
   "cell_type": "code",
   "execution_count": 44,
   "metadata": {},
   "outputs": [
    {
     "name": "stdout",
     "output_type": "stream",
     "text": [
      "Hello Rafay would you like to learn some python today?\n"
     ]
    }
   ],
   "source": [
    "# 2-3. Personal Message\n",
    "name = \"Rafay\"\n",
    "print(\"Hello \"+name+\" would you like to learn some python today?\") "
   ]
  },
  {
   "cell_type": "code",
   "execution_count": 11,
   "metadata": {},
   "outputs": [
    {
     "name": "stdout",
     "output_type": "stream",
     "text": [
      "RAFAY\n",
      "rafay\n",
      "Rafay\n"
     ]
    }
   ],
   "source": [
    "# 2-4. Name Cases\n",
    "name = \"rafay\"\n",
    "print(name.upper())\n",
    "print(name.lower())\n",
    "print(name.title())"
   ]
  },
  {
   "cell_type": "code",
   "execution_count": 18,
   "metadata": {},
   "outputs": [
    {
     "name": "stdout",
     "output_type": "stream",
     "text": [
      "Steve Jobs once said \"Design is not just what it looks like and feels like.Design is how it works.\"\n"
     ]
    }
   ],
   "source": [
    "# 2-5. Famous Quote\n",
    "name = \"Steve Jobs\"\n",
    "print(name +\" once said \"+'\"Design is not just what it looks like and feels like.Design is how it works.\"')"
   ]
  },
  {
   "cell_type": "code",
   "execution_count": 20,
   "metadata": {},
   "outputs": [
    {
     "name": "stdout",
     "output_type": "stream",
     "text": [
      "Steve Jobs \"Design is not just what it looks like and feels like.Design is how it works.\"\n"
     ]
    }
   ],
   "source": [
    "# 2-6. Famous Quote 2\n",
    "famous_person = \"Steve Jobs \"\n",
    "quote = '\"Design is not just what it looks like and feels like.Design is how it works.\"'\n",
    "message = famous_person + quote\n",
    "print(message)"
   ]
  },
  {
   "cell_type": "code",
   "execution_count": 35,
   "metadata": {},
   "outputs": [
    {
     "name": "stdout",
     "output_type": "stream",
     "text": [
      " \tAbdur\n",
      "Rafay\tNadeem   \n",
      "Abdur\n",
      "Rafay\tNadeem\n",
      "Abdur\n",
      "Rafay\tNadeem   \n",
      " \tAbdur\n",
      "Rafay\tNadeem\n"
     ]
    }
   ],
   "source": [
    "# 2-7. Stripping Names\n",
    "name = \" \\tAbdur\\nRafay\\tNadeem   \"\n",
    "print(name)\n",
    "print(name.strip())\n",
    "print(name.lstrip())\n",
    "print(name.rstrip())"
   ]
  },
  {
   "cell_type": "code",
   "execution_count": 41,
   "metadata": {},
   "outputs": [
    {
     "name": "stdout",
     "output_type": "stream",
     "text": [
      "8\n",
      "8\n",
      "8\n",
      "8\n"
     ]
    }
   ],
   "source": [
    "# 2-8. Number Eight\n",
    "print(5+3)\n",
    "print(12-4)\n",
    "print(4*2)\n",
    "print(int(16.0/2))"
   ]
  },
  {
   "cell_type": "code",
   "execution_count": 42,
   "metadata": {},
   "outputs": [
    {
     "name": "stdout",
     "output_type": "stream",
     "text": [
      "My Favourite Number is 6\n"
     ]
    }
   ],
   "source": [
    "# 2-9. Favourite Number\n",
    "favourite_number = \"6\"\n",
    "print(\"My Favourite Number is \"+favourite_number)"
   ]
  },
  {
   "cell_type": "code",
   "execution_count": 46,
   "metadata": {},
   "outputs": [
    {
     "name": "stdout",
     "output_type": "stream",
     "text": [
      "My name is Rafay My favourite number is 6\n"
     ]
    }
   ],
   "source": [
    "# 2-10. Adding Comments\n",
    "print(\"My name is \"+name+\" My favourite number is \"+favourite_number)"
   ]
  },
  {
   "cell_type": "code",
   "execution_count": null,
   "metadata": {},
   "outputs": [],
   "source": []
  }
 ],
 "metadata": {
  "kernelspec": {
   "display_name": "Python 3",
   "language": "python",
   "name": "python3"
  },
  "language_info": {
   "codemirror_mode": {
    "name": "ipython",
    "version": 3
   },
   "file_extension": ".py",
   "mimetype": "text/x-python",
   "name": "python",
   "nbconvert_exporter": "python",
   "pygments_lexer": "ipython3",
   "version": "3.8.3"
  }
 },
 "nbformat": 4,
 "nbformat_minor": 4
}
